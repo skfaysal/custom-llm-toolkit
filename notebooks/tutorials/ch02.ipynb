{
 "cells": [
  {
   "cell_type": "markdown",
   "id": "d95f841a-63c9-41d4-aea1-496b3d2024dd",
   "metadata": {},
   "source": [
    "<table style=\"width:100%\">\n",
    "<tr>\n",
    "<td style=\"vertical-align:middle; text-align:left;\">\n",
    "<font size=\"2\">\n",
    "Supplementary code for the <a href=\"http://mng.bz/orYv\">Build a Large Language Model From Scratch</a> book by <a href=\"https://sebastianraschka.com\">Sebastian Raschka</a><br>\n",
    "<br>Code repository: <a href=\"https://github.com/rasbt/LLMs-from-scratch\">https://github.com/rasbt/LLMs-from-scratch</a>\n",
    "</font>\n",
    "</td>\n",
    "<td style=\"vertical-align:middle; text-align:left;\">\n",
    "<a href=\"http://mng.bz/orYv\"><img src=\"https://sebastianraschka.com/images/LLMs-from-scratch-images/cover-small.webp\" width=\"100px\"></a>\n",
    "</td>\n",
    "</tr>\n",
    "</table>\n"
   ]
  },
  {
   "cell_type": "markdown",
   "id": "25aa40e3-5109-433f-9153-f5770531fe94",
   "metadata": {},
   "source": [
    "# Chapter 2: Working with Text Data"
   ]
  },
  {
   "cell_type": "markdown",
   "id": "76d5d2c0-cba8-404e-9bf3-71a218cae3cf",
   "metadata": {},
   "source": [
    "Packages that are being used in this notebook:"
   ]
  },
  {
   "cell_type": "code",
   "execution_count": 1,
   "id": "4d1305cf-12d5-46fe-a2c9-36fb71c5b3d3",
   "metadata": {},
   "outputs": [
    {
     "name": "stdout",
     "output_type": "stream",
     "text": [
      "torch version: 2.7.1\n",
      "tiktoken version: 0.9.0\n"
     ]
    }
   ],
   "source": [
    "from importlib.metadata import version\n",
    "import tiktoken\n",
    "\n",
    "print(\"torch version:\", version(\"torch\"))\n",
    "print(\"tiktoken version:\", version(\"tiktoken\"))"
   ]
  },
  {
   "cell_type": "markdown",
   "id": "5a42fbfd-e3c2-43c2-bc12-f5f870a0b10a",
   "metadata": {},
   "source": [
    "- This chapter covers data preparation and sampling to get input data \"ready\" for the LLM"
   ]
  },
  {
   "cell_type": "markdown",
   "id": "628b2922-594d-4ff9-bd82-04f1ebdf41f5",
   "metadata": {},
   "source": [
    "<img src=\"https://sebastianraschka.com/images/LLMs-from-scratch-images/ch02_compressed/01.webp?timestamp=1\" width=\"500px\">"
   ]
  },
  {
   "cell_type": "markdown",
   "id": "2417139b-2357-44d2-bd67-23f5d7f52ae7",
   "metadata": {},
   "source": [
    "## 2.1 Understanding word embeddings"
   ]
  },
  {
   "cell_type": "markdown",
   "id": "0b6816ae-e927-43a9-b4dd-e47a9b0e1cf6",
   "metadata": {},
   "source": [
    "- No code in this section"
   ]
  },
  {
   "cell_type": "markdown",
   "id": "4f69dab7-a433-427a-9e5b-b981062d6296",
   "metadata": {},
   "source": [
    "- There are many forms of embeddings; we focus on text embeddings in this book"
   ]
  },
  {
   "cell_type": "markdown",
   "id": "ba08d16f-f237-4166-bf89-0e9fe703e7b4",
   "metadata": {},
   "source": [
    "<img src=\"https://sebastianraschka.com/images/LLMs-from-scratch-images/ch02_compressed/02.webp\" width=\"500px\">"
   ]
  },
  {
   "cell_type": "markdown",
   "id": "288c4faf-b93a-4616-9276-7a4aa4b5e9ba",
   "metadata": {},
   "source": [
    "- LLMs work with embeddings in high-dimensional spaces (i.e., thousands of dimensions)\n",
    "- Since we can't visualize such high-dimensional spaces (we humans think in 1, 2, or 3 dimensions), the figure below illustrates a 2-dimensional embedding space"
   ]
  },
  {
   "cell_type": "markdown",
   "id": "d6b80160-1f10-4aad-a85e-9c79444de9e6",
   "metadata": {},
   "source": [
    "<img src=\"https://sebastianraschka.com/images/LLMs-from-scratch-images/ch02_compressed/03.webp\" width=\"300px\">"
   ]
  },
  {
   "cell_type": "markdown",
   "id": "eddbb984-8d23-40c5-bbfa-c3c379e7eec3",
   "metadata": {},
   "source": [
    "## 2.2 Tokenizing text"
   ]
  },
  {
   "cell_type": "markdown",
   "id": "f9c90731-7dc9-4cd3-8c4a-488e33b48e80",
   "metadata": {},
   "source": [
    "- In this section, we tokenize text, which means breaking text into smaller units, such as individual words and punctuation characters"
   ]
  },
  {
   "cell_type": "markdown",
   "id": "09872fdb-9d4e-40c4-949d-52a01a43ec4b",
   "metadata": {},
   "source": [
    "<img src=\"https://sebastianraschka.com/images/LLMs-from-scratch-images/ch02_compressed/04.webp\" width=\"300px\">"
   ]
  },
  {
   "cell_type": "markdown",
   "id": "8cceaa18-833d-46b6-b211-b20c53902805",
   "metadata": {},
   "source": [
    "- Load raw text we want to work with\n",
    "- [The Verdict by Edith Wharton](https://en.wikisource.org/wiki/The_Verdict) is a public domain short story"
   ]
  },
  {
   "cell_type": "code",
   "execution_count": 2,
   "id": "40f9d9b1-6d32-485a-825a-a95392a86d79",
   "metadata": {},
   "outputs": [],
   "source": [
    "import os\n",
    "import urllib.request\n",
    "\n",
    "if not os.path.exists(\"the-verdict.txt\"):\n",
    "    url = (\"https://raw.githubusercontent.com/rasbt/\"\n",
    "           \"LLMs-from-scratch/main/ch02/01_main-chapter-code/\"\n",
    "           \"the-verdict.txt\")\n",
    "    file_path = \"the-verdict.txt\"\n",
    "    urllib.request.urlretrieve(url, file_path)"
   ]
  },
  {
   "cell_type": "markdown",
   "id": "56488f2c-a2b8-49f1-aaeb-461faad08dce",
   "metadata": {},
   "source": [
    "- (If you encounter an `ssl.SSLCertVerificationError` when executing the previous code cell, it might be due to using an outdated Python version; you can find [more information here on GitHub](https://github.com/rasbt/LLMs-from-scratch/pull/403))"
   ]
  },
  {
   "cell_type": "code",
   "execution_count": 3,
   "id": "8a769e87-470a-48b9-8bdb-12841b416198",
   "metadata": {},
   "outputs": [
    {
     "name": "stdout",
     "output_type": "stream",
     "text": [
      "Total number of character: 20479\n",
      "I HAD always thought Jack Gisburn rather a cheap genius--though a good fellow enough--so it was no \n"
     ]
    }
   ],
   "source": [
    "with open(\"the-verdict.txt\", \"r\", encoding=\"utf-8\") as f:\n",
    "    raw_text = f.read()\n",
    "    \n",
    "print(\"Total number of character:\", len(raw_text))\n",
    "print(raw_text[:99])"
   ]
  },
  {
   "cell_type": "markdown",
   "id": "9b971a46-ac03-4368-88ae-3f20279e8f4e",
   "metadata": {},
   "source": [
    "- The goal is to tokenize and embed this text for an LLM\n",
    "- Let's develop a simple tokenizer based on some simple sample text that we can then later apply to the text above\n",
    "- The following regular expression will split on whitespaces"
   ]
  },
  {
   "cell_type": "code",
   "execution_count": 4,
   "id": "737dd5b0-9dbb-4a97-9ae4-3482c8c04be7",
   "metadata": {},
   "outputs": [
    {
     "name": "stdout",
     "output_type": "stream",
     "text": [
      "['Hello,', ' ', 'world.', ' ', 'This,', ' ', 'is', ' ', 'a', ' ', 'test.']\n",
      "30\n"
     ]
    }
   ],
   "source": [
    "import re\n",
    "\n",
    "text = \"Hello, world. This, is a test.\"\n",
    "result = re.split(r'(\\s)', text)\n",
    "\n",
    "print(result)\n",
    "print(len(text))"
   ]
  },
  {
   "cell_type": "markdown",
   "id": "a8c40c18-a9d5-4703-bf71-8261dbcc5ee3",
   "metadata": {},
   "source": [
    "- We don't only want to split on whitespaces but also commas and periods, so let's modify the regular expression to do that as well"
   ]
  },
  {
   "cell_type": "code",
   "execution_count": 5,
   "id": "ea02489d-01f9-4247-b7dd-a0d63f62ef07",
   "metadata": {},
   "outputs": [
    {
     "name": "stdout",
     "output_type": "stream",
     "text": [
      "['Hello', ',', '', ' ', 'world', '.', '', ' ', 'This', ',', '', ' ', 'is', ' ', 'a', ' ', 'test', '.', '']\n",
      "19\n"
     ]
    }
   ],
   "source": [
    "result = re.split(r'([,.]|\\s)', text)\n",
    "\n",
    "print(result)\n",
    "print(len(result))"
   ]
  },
  {
   "cell_type": "markdown",
   "id": "461d0c86-e3af-4f87-8fae-594a9ca9b6ad",
   "metadata": {},
   "source": [
    "- As we can see, this creates empty strings, let's remove them"
   ]
  },
  {
   "cell_type": "code",
   "execution_count": 6,
   "id": "4d8a6fb7-2e62-4a12-ad06-ccb04f25fed7",
   "metadata": {},
   "outputs": [
    {
     "name": "stdout",
     "output_type": "stream",
     "text": [
      "['Hello', ',', 'world', '.', 'This', ',', 'is', 'a', 'test', '.']\n",
      "10\n"
     ]
    }
   ],
   "source": [
    "# Strip whitespace from each item and then filter out any empty strings.\n",
    "result = [item for item in result if item.strip()]\n",
    "print(result)\n",
    "print(len(result))"
   ]
  },
  {
   "cell_type": "markdown",
   "id": "250e8694-181e-496f-895d-7cb7d92b5562",
   "metadata": {},
   "source": [
    "- This looks pretty good, but let's also handle other types of punctuation, such as periods, question marks, and so on"
   ]
  },
  {
   "cell_type": "code",
   "execution_count": 7,
   "id": "ed3a9467-04b4-49d9-96c5-b8042bcf8374",
   "metadata": {},
   "outputs": [
    {
     "name": "stdout",
     "output_type": "stream",
     "text": [
      "['Hello', ',', 'world', '.', 'Is', 'this', '--', 'a', 'test', '?']\n",
      "10\n"
     ]
    }
   ],
   "source": [
    "text = \"Hello, world. Is this-- a test?\"\n",
    "\n",
    "result = re.split(r'([,.:;?_!\"()\\']|--|\\s)', text)\n",
    "result = [item.strip() for item in result if item.strip()]\n",
    "print(result)\n",
    "print(len(result))"
   ]
  },
  {
   "cell_type": "markdown",
   "id": "5bbea70b-c030-45d9-b09d-4318164c0bb4",
   "metadata": {},
   "source": [
    "- This is pretty good, and we are now ready to apply this tokenization to the raw text"
   ]
  },
  {
   "cell_type": "markdown",
   "id": "6cbe9330-b587-4262-be9f-497a84ec0e8a",
   "metadata": {},
   "source": [
    "<img src=\"https://sebastianraschka.com/images/LLMs-from-scratch-images/ch02_compressed/05.webp\" width=\"350px\">"
   ]
  },
  {
   "cell_type": "code",
   "execution_count": null,
   "id": "994f8bdf",
   "metadata": {},
   "outputs": [],
   "source": []
  },
  {
   "cell_type": "code",
   "execution_count": 8,
   "id": "8c567caa-8ff5-49a8-a5cc-d365b0a78a99",
   "metadata": {},
   "outputs": [
    {
     "name": "stdout",
     "output_type": "stream",
     "text": [
      "['I', 'HAD', 'always', 'thought', 'Jack', 'Gisburn', 'rather', 'a', 'cheap', 'genius', '--', 'though', 'a', 'good', 'fellow', 'enough', '--', 'so', 'it', 'was', 'no', 'great', 'surprise', 'to', 'me', 'to', 'hear', 'that', ',', 'in']\n"
     ]
    }
   ],
   "source": [
    "preprocessed = re.split(r'([,.:;?_!\"()\\']|--|\\s)', raw_text)\n",
    "preprocessed = [item.strip() for item in preprocessed if item.strip()]\n",
    "print(preprocessed[:30])"
   ]
  },
  {
   "cell_type": "markdown",
   "id": "e2a19e1a-5105-4ddb-812a-b7d3117eab95",
   "metadata": {},
   "source": [
    "- Let's calculate the total number of tokens"
   ]
  },
  {
   "cell_type": "code",
   "execution_count": 9,
   "id": "35db7b5e-510b-4c45-995f-f5ad64a8e19c",
   "metadata": {},
   "outputs": [
    {
     "name": "stdout",
     "output_type": "stream",
     "text": [
      "4690\n"
     ]
    }
   ],
   "source": [
    "print(len(preprocessed))"
   ]
  },
  {
   "cell_type": "code",
   "execution_count": 10,
   "id": "ccf3cb68",
   "metadata": {},
   "outputs": [
    {
     "name": "stdout",
     "output_type": "stream",
     "text": [
      "Gisburne is in the list\n"
     ]
    }
   ],
   "source": [
    "if \"Gisburn\" in preprocessed:\n",
    "    print(\"Gisburne is in the list\")"
   ]
  },
  {
   "cell_type": "markdown",
   "id": "0b5ce8fe-3a07-4f2a-90f1-a0321ce3a231",
   "metadata": {},
   "source": [
    "## 2.3 Converting tokens into token IDs"
   ]
  },
  {
   "cell_type": "markdown",
   "id": "a5204973-f414-4c0d-87b0-cfec1f06e6ff",
   "metadata": {},
   "source": [
    "- Next, we convert the text tokens into token IDs that we can process via embedding layers later"
   ]
  },
  {
   "cell_type": "markdown",
   "id": "177b041d-f739-43b8-bd81-0443ae3a7f8d",
   "metadata": {},
   "source": [
    "<img src=\"https://sebastianraschka.com/images/LLMs-from-scratch-images/ch02_compressed/06.webp\" width=\"500px\">"
   ]
  },
  {
   "cell_type": "markdown",
   "id": "b5973794-7002-4202-8b12-0900cd779720",
   "metadata": {},
   "source": [
    "- From these tokens, we can now build a vocabulary that consists of all the unique tokens"
   ]
  },
  {
   "cell_type": "code",
   "execution_count": 11,
   "id": "7fdf0533-5ab6-42a5-83fa-a3b045de6396",
   "metadata": {},
   "outputs": [
    {
     "name": "stdout",
     "output_type": "stream",
     "text": [
      "1130\n"
     ]
    }
   ],
   "source": [
    "all_words = sorted(set(preprocessed))\n",
    "vocab_size = len(all_words)\n",
    "\n",
    "print(vocab_size)"
   ]
  },
  {
   "cell_type": "code",
   "execution_count": 12,
   "id": "77d00d96-881f-4691-bb03-84fec2a75a26",
   "metadata": {},
   "outputs": [],
   "source": [
    "vocab = {token:integer for integer,token in enumerate(all_words)}"
   ]
  },
  {
   "cell_type": "markdown",
   "id": "75bd1f81-3a8f-4dd9-9dd6-e75f32dacbe3",
   "metadata": {},
   "source": [
    "- Below are the first 50 entries in this vocabulary:"
   ]
  },
  {
   "cell_type": "code",
   "execution_count": 13,
   "id": "e1c5de4a-aa4e-4aec-b532-10bb364039d6",
   "metadata": {},
   "outputs": [
    {
     "name": "stdout",
     "output_type": "stream",
     "text": [
      "('!', 0)\n",
      "('\"', 1)\n",
      "(\"'\", 2)\n",
      "('(', 3)\n",
      "(')', 4)\n",
      "(',', 5)\n",
      "('--', 6)\n",
      "('.', 7)\n",
      "(':', 8)\n",
      "(';', 9)\n",
      "('?', 10)\n",
      "('A', 11)\n",
      "('Ah', 12)\n",
      "('Among', 13)\n",
      "('And', 14)\n",
      "('Are', 15)\n",
      "('Arrt', 16)\n",
      "('As', 17)\n",
      "('At', 18)\n",
      "('Be', 19)\n",
      "('Begin', 20)\n",
      "('Burlington', 21)\n",
      "('But', 22)\n",
      "('By', 23)\n",
      "('Carlo', 24)\n",
      "('Chicago', 25)\n",
      "('Claude', 26)\n",
      "('Come', 27)\n",
      "('Croft', 28)\n",
      "('Destroyed', 29)\n",
      "('Devonshire', 30)\n",
      "('Don', 31)\n",
      "('Dubarry', 32)\n",
      "('Emperors', 33)\n",
      "('Florence', 34)\n",
      "('For', 35)\n",
      "('Gallery', 36)\n",
      "('Gideon', 37)\n",
      "('Gisburn', 38)\n",
      "('Gisburns', 39)\n",
      "('Grafton', 40)\n",
      "('Greek', 41)\n",
      "('Grindle', 42)\n",
      "('Grindles', 43)\n",
      "('HAD', 44)\n",
      "('Had', 45)\n",
      "('Hang', 46)\n",
      "('Has', 47)\n",
      "('He', 48)\n",
      "('Her', 49)\n",
      "('Hermia', 50)\n"
     ]
    }
   ],
   "source": [
    "for i, item in enumerate(vocab.items()):\n",
    "    print(item)\n",
    "    if i >= 50:\n",
    "        break"
   ]
  },
  {
   "cell_type": "markdown",
   "id": "3b1dc314-351b-476a-9459-0ec9ddc29b19",
   "metadata": {},
   "source": [
    "- Below, we illustrate the tokenization of a short sample text using a small vocabulary:"
   ]
  },
  {
   "cell_type": "markdown",
   "id": "67407a9f-0202-4e7c-9ed7-1b3154191ebc",
   "metadata": {},
   "source": [
    "<img src=\"https://sebastianraschka.com/images/LLMs-from-scratch-images/ch02_compressed/07.webp?123\" width=\"500px\">"
   ]
  },
  {
   "cell_type": "markdown",
   "id": "4e569647-2589-4c9d-9a5c-aef1c88a0a9a",
   "metadata": {},
   "source": [
    "- Putting it now all together into a tokenizer class"
   ]
  },
  {
   "cell_type": "code",
   "execution_count": 14,
   "id": "f531bf46-7c25-4ef8-bff8-0d27518676d5",
   "metadata": {},
   "outputs": [],
   "source": [
    "class SimpleTokenizerV1:\n",
    "    def __init__(self, vocab):\n",
    "        self.str_to_int = vocab\n",
    "        self.int_to_str = {i:s for s,i in vocab.items()}\n",
    "    \n",
    "    def encode(self, text):\n",
    "        preprocessed = re.split(r'([,.:;?_!\"()\\']|--|\\s)', text)\n",
    "                                \n",
    "        preprocessed = [\n",
    "            item.strip() for item in preprocessed if item.strip()\n",
    "        ]\n",
    "        ids = [self.str_to_int[s] for s in preprocessed]\n",
    "        return ids\n",
    "        \n",
    "    def decode(self, ids):\n",
    "        text = \" \".join([self.int_to_str[i] for i in ids])\n",
    "        # Replace spaces before the specified punctuations\n",
    "        text = re.sub(r'\\s+([,.?!\"()\\'])', r'\\1', text)\n",
    "        return text"
   ]
  },
  {
   "cell_type": "markdown",
   "id": "dee7a1e5-b54f-4ca1-87ef-3d663c4ee1e7",
   "metadata": {},
   "source": [
    "- The `encode` function turns text into token IDs\n",
    "- The `decode` function turns token IDs back into text"
   ]
  },
  {
   "cell_type": "markdown",
   "id": "cc21d347-ec03-4823-b3d4-9d686e495617",
   "metadata": {},
   "source": [
    "<img src=\"https://sebastianraschka.com/images/LLMs-from-scratch-images/ch02_compressed/08.webp?123\" width=\"500px\">"
   ]
  },
  {
   "cell_type": "markdown",
   "id": "c2950a94-6b0d-474e-8ed0-66d0c3c1a95c",
   "metadata": {},
   "source": [
    "- We can use the tokenizer to encode (that is, tokenize) texts into integers\n",
    "- These integers can then be embedded (later) as input of/for the LLM"
   ]
  },
  {
   "cell_type": "code",
   "execution_count": 15,
   "id": "647364ec-7995-4654-9b4a-7607ccf5f1e4",
   "metadata": {},
   "outputs": [
    {
     "name": "stdout",
     "output_type": "stream",
     "text": [
      "[1, 56, 2, 850, 988, 602, 533, 746, 5, 1126, 596, 5, 1, 67, 7, 38, 851, 1108, 754, 793, 7]\n"
     ]
    }
   ],
   "source": [
    "tokenizer = SimpleTokenizerV1(vocab)\n",
    "\n",
    "text = \"\"\"\"It's the last he painted, you know,\" \n",
    "           Mrs. Gisburn said with pardonable pride.\"\"\"\n",
    "ids = tokenizer.encode(text)\n",
    "print(ids)"
   ]
  },
  {
   "cell_type": "markdown",
   "id": "3201706e-a487-4b60-b99d-5765865f29a0",
   "metadata": {},
   "source": [
    "- We can decode the integers back into text"
   ]
  },
  {
   "cell_type": "code",
   "execution_count": 16,
   "id": "01d8c8fb-432d-4a49-b332-99f23b233746",
   "metadata": {},
   "outputs": [
    {
     "data": {
      "text/plain": [
       "'\" It\\' s the last he painted, you know,\" Mrs. Gisburn said with pardonable pride.'"
      ]
     },
     "execution_count": 16,
     "metadata": {},
     "output_type": "execute_result"
    }
   ],
   "source": [
    "tokenizer.decode(ids)"
   ]
  },
  {
   "cell_type": "code",
   "execution_count": 17,
   "id": "54f6aa8b-9827-412e-9035-e827296ab0fe",
   "metadata": {},
   "outputs": [
    {
     "data": {
      "text/plain": [
       "'\" It\\' s the last he painted, you know,\" Mrs. Gisburn said with pardonable pride.'"
      ]
     },
     "execution_count": 17,
     "metadata": {},
     "output_type": "execute_result"
    }
   ],
   "source": [
    "tokenizer.decode(tokenizer.encode(text))"
   ]
  },
  {
   "cell_type": "markdown",
   "id": "4b821ef8-4d53-43b6-a2b2-aef808c343c7",
   "metadata": {},
   "source": [
    "## 2.4 Adding special context tokens"
   ]
  },
  {
   "cell_type": "markdown",
   "id": "863d6d15-a3e2-44e0-b384-bb37f17cf443",
   "metadata": {},
   "source": [
    "- It's useful to add some \"special\" tokens for unknown words and to denote the end of a text"
   ]
  },
  {
   "cell_type": "markdown",
   "id": "aa7fc96c-e1fd-44fb-b7f5-229d7c7922a4",
   "metadata": {},
   "source": [
    "<img src=\"https://sebastianraschka.com/images/LLMs-from-scratch-images/ch02_compressed/09.webp?123\" width=\"500px\">"
   ]
  },
  {
   "cell_type": "markdown",
   "id": "9d709d57-2486-4152-b7f9-d3e4bd8634cd",
   "metadata": {},
   "source": [
    "- Some tokenizers use special tokens to help the LLM with additional context\n",
    "- Some of these special tokens are\n",
    "  - `[BOS]` (beginning of sequence) marks the beginning of text\n",
    "  - `[EOS]` (end of sequence) marks where the text ends (this is usually used to concatenate multiple unrelated texts, e.g., two different Wikipedia articles or two different books, and so on)\n",
    "  - `[PAD]` (padding) if we train LLMs with a batch size greater than 1 (we may include multiple texts with different lengths; with the padding token we pad the shorter texts to the longest length so that all texts have an equal length)\n",
    "- `[UNK]` to represent words that are not included in the vocabulary\n",
    "\n",
    "- Note that GPT-2 does not need any of these tokens mentioned above but only uses an `<|endoftext|>` token to reduce complexity\n",
    "- The `<|endoftext|>` is analogous to the `[EOS]` token mentioned above\n",
    "- GPT also uses the `<|endoftext|>` for padding (since we typically use a mask when training on batched inputs, we would not attend padded tokens anyways, so it does not matter what these tokens are)\n",
    "- GPT-2 does not use an `<UNK>` token for out-of-vocabulary words; instead, GPT-2 uses a byte-pair encoding (BPE) tokenizer, which breaks down words into subword units which we will discuss in a later section\n",
    "\n"
   ]
  },
  {
   "cell_type": "markdown",
   "id": "a336b43b-7173-49e7-bd80-527ad4efb271",
   "metadata": {},
   "source": [
    "- We use the `<|endoftext|>` tokens between two independent sources of text:"
   ]
  },
  {
   "cell_type": "markdown",
   "id": "52442951-752c-4855-9752-b121a17fef55",
   "metadata": {},
   "source": [
    "<img src=\"https://sebastianraschka.com/images/LLMs-from-scratch-images/ch02_compressed/10.webp\" width=\"500px\">"
   ]
  },
  {
   "cell_type": "markdown",
   "id": "c661a397-da06-4a86-ac27-072dbe7cb172",
   "metadata": {},
   "source": [
    "- Let's see what happens if we tokenize the following text:"
   ]
  },
  {
   "cell_type": "code",
   "execution_count": 18,
   "id": "d5767eff-440c-4de1-9289-f789349d6b85",
   "metadata": {},
   "outputs": [
    {
     "ename": "KeyError",
     "evalue": "'Hello'",
     "output_type": "error",
     "traceback": [
      "\u001b[0;31m---------------------------------------------------------------------------\u001b[0m",
      "\u001b[0;31mKeyError\u001b[0m                                  Traceback (most recent call last)",
      "Cell \u001b[0;32mIn[18], line 5\u001b[0m\n\u001b[1;32m      1\u001b[0m tokenizer \u001b[38;5;241m=\u001b[39m SimpleTokenizerV1(vocab)\n\u001b[1;32m      3\u001b[0m text \u001b[38;5;241m=\u001b[39m \u001b[38;5;124m\"\u001b[39m\u001b[38;5;124mHello, do you like tea. Is this-- a test?\u001b[39m\u001b[38;5;124m\"\u001b[39m\n\u001b[0;32m----> 5\u001b[0m \u001b[43mtokenizer\u001b[49m\u001b[38;5;241;43m.\u001b[39;49m\u001b[43mencode\u001b[49m\u001b[43m(\u001b[49m\u001b[43mtext\u001b[49m\u001b[43m)\u001b[49m\n",
      "Cell \u001b[0;32mIn[14], line 12\u001b[0m, in \u001b[0;36mSimpleTokenizerV1.encode\u001b[0;34m(self, text)\u001b[0m\n\u001b[1;32m      7\u001b[0m preprocessed \u001b[38;5;241m=\u001b[39m re\u001b[38;5;241m.\u001b[39msplit(\u001b[38;5;124mr\u001b[39m\u001b[38;5;124m'\u001b[39m\u001b[38;5;124m([,.:;?_!\u001b[39m\u001b[38;5;124m\"\u001b[39m\u001b[38;5;124m()\u001b[39m\u001b[38;5;130;01m\\'\u001b[39;00m\u001b[38;5;124m]|--|\u001b[39m\u001b[38;5;124m\\\u001b[39m\u001b[38;5;124ms)\u001b[39m\u001b[38;5;124m'\u001b[39m, text)\n\u001b[1;32m      9\u001b[0m preprocessed \u001b[38;5;241m=\u001b[39m [\n\u001b[1;32m     10\u001b[0m     item\u001b[38;5;241m.\u001b[39mstrip() \u001b[38;5;28;01mfor\u001b[39;00m item \u001b[38;5;129;01min\u001b[39;00m preprocessed \u001b[38;5;28;01mif\u001b[39;00m item\u001b[38;5;241m.\u001b[39mstrip()\n\u001b[1;32m     11\u001b[0m ]\n\u001b[0;32m---> 12\u001b[0m ids \u001b[38;5;241m=\u001b[39m [\u001b[38;5;28mself\u001b[39m\u001b[38;5;241m.\u001b[39mstr_to_int[s] \u001b[38;5;28;01mfor\u001b[39;00m s \u001b[38;5;129;01min\u001b[39;00m preprocessed]\n\u001b[1;32m     13\u001b[0m \u001b[38;5;28;01mreturn\u001b[39;00m ids\n",
      "Cell \u001b[0;32mIn[14], line 12\u001b[0m, in \u001b[0;36m<listcomp>\u001b[0;34m(.0)\u001b[0m\n\u001b[1;32m      7\u001b[0m preprocessed \u001b[38;5;241m=\u001b[39m re\u001b[38;5;241m.\u001b[39msplit(\u001b[38;5;124mr\u001b[39m\u001b[38;5;124m'\u001b[39m\u001b[38;5;124m([,.:;?_!\u001b[39m\u001b[38;5;124m\"\u001b[39m\u001b[38;5;124m()\u001b[39m\u001b[38;5;130;01m\\'\u001b[39;00m\u001b[38;5;124m]|--|\u001b[39m\u001b[38;5;124m\\\u001b[39m\u001b[38;5;124ms)\u001b[39m\u001b[38;5;124m'\u001b[39m, text)\n\u001b[1;32m      9\u001b[0m preprocessed \u001b[38;5;241m=\u001b[39m [\n\u001b[1;32m     10\u001b[0m     item\u001b[38;5;241m.\u001b[39mstrip() \u001b[38;5;28;01mfor\u001b[39;00m item \u001b[38;5;129;01min\u001b[39;00m preprocessed \u001b[38;5;28;01mif\u001b[39;00m item\u001b[38;5;241m.\u001b[39mstrip()\n\u001b[1;32m     11\u001b[0m ]\n\u001b[0;32m---> 12\u001b[0m ids \u001b[38;5;241m=\u001b[39m [\u001b[38;5;28;43mself\u001b[39;49m\u001b[38;5;241;43m.\u001b[39;49m\u001b[43mstr_to_int\u001b[49m\u001b[43m[\u001b[49m\u001b[43ms\u001b[49m\u001b[43m]\u001b[49m \u001b[38;5;28;01mfor\u001b[39;00m s \u001b[38;5;129;01min\u001b[39;00m preprocessed]\n\u001b[1;32m     13\u001b[0m \u001b[38;5;28;01mreturn\u001b[39;00m ids\n",
      "\u001b[0;31mKeyError\u001b[0m: 'Hello'"
     ]
    }
   ],
   "source": [
    "tokenizer = SimpleTokenizerV1(vocab)\n",
    "\n",
    "text = \"Hello, do you like tea. Is this-- a test?\"\n",
    "\n",
    "tokenizer.encode(text)"
   ]
  },
  {
   "cell_type": "markdown",
   "id": "dc53ee0c-fe2b-4cd8-a946-5471f7651acf",
   "metadata": {},
   "source": [
    "- The above produces an error because the word \"Hello\" is not contained in the vocabulary\n",
    "- To deal with such cases, we can add special tokens like `\"<|unk|>\"` to the vocabulary to represent unknown words\n",
    "- Since we are already extending the vocabulary, let's add another token called `\"<|endoftext|>\"` which is used in GPT-2 training to denote the end of a text (and it's also used between concatenated text, like if our training datasets consists of multiple articles, books, etc.)"
   ]
  },
  {
   "cell_type": "code",
   "execution_count": 19,
   "id": "ce9df29c-6c5b-43f1-8c1a-c7f7b79db78f",
   "metadata": {},
   "outputs": [],
   "source": [
    "all_tokens = sorted(list(set(preprocessed)))\n",
    "all_tokens.extend([\"<|endoftext|>\", \"<|unk|>\"])\n",
    "\n",
    "vocab = {token:integer for integer,token in enumerate(all_tokens)}"
   ]
  },
  {
   "cell_type": "code",
   "execution_count": 20,
   "id": "57c3143b-e860-4d3b-a22a-de22b547a6a9",
   "metadata": {},
   "outputs": [
    {
     "data": {
      "text/plain": [
       "1132"
      ]
     },
     "execution_count": 20,
     "metadata": {},
     "output_type": "execute_result"
    }
   ],
   "source": [
    "len(vocab.items())"
   ]
  },
  {
   "cell_type": "code",
   "execution_count": 21,
   "id": "50e51bb1-ae05-4aa8-a9ff-455b65ed1959",
   "metadata": {},
   "outputs": [
    {
     "name": "stdout",
     "output_type": "stream",
     "text": [
      "('younger', 1127)\n",
      "('your', 1128)\n",
      "('yourself', 1129)\n",
      "('<|endoftext|>', 1130)\n",
      "('<|unk|>', 1131)\n"
     ]
    }
   ],
   "source": [
    "for i, item in enumerate(list(vocab.items())[-5:]):\n",
    "    print(item)"
   ]
  },
  {
   "cell_type": "markdown",
   "id": "a1daa2b0-6e75-412b-ab53-1f6fb7b4d453",
   "metadata": {},
   "source": [
    "- We also need to adjust the tokenizer accordingly so that it knows when and how to use the new `<unk>` token"
   ]
  },
  {
   "cell_type": "code",
   "execution_count": 22,
   "id": "948861c5-3f30-4712-a234-725f20d26f68",
   "metadata": {},
   "outputs": [],
   "source": [
    "class SimpleTokenizerV2:\n",
    "    def __init__(self, vocab):\n",
    "        self.str_to_int = vocab\n",
    "        self.int_to_str = { i:s for s,i in vocab.items()}\n",
    "    \n",
    "    def encode(self, text):\n",
    "        preprocessed = re.split(r'([,.:;?_!\"()\\']|--|\\s)', text)\n",
    "        preprocessed = [item.strip() for item in preprocessed if item.strip()]\n",
    "        preprocessed = [\n",
    "            item if item in self.str_to_int \n",
    "            else \"<|unk|>\" for item in preprocessed\n",
    "        ]\n",
    "\n",
    "        ids = [self.str_to_int[s] for s in preprocessed]\n",
    "        return ids\n",
    "        \n",
    "    def decode(self, ids):\n",
    "        text = \" \".join([self.int_to_str[i] for i in ids])\n",
    "        # Replace spaces before the specified punctuations\n",
    "        text = re.sub(r'\\s+([,.:;?!\"()\\'])', r'\\1', text)\n",
    "        return text"
   ]
  },
  {
   "cell_type": "markdown",
   "id": "aa728dd1-9d35-4ac7-938f-d411d73083f6",
   "metadata": {},
   "source": [
    "Let's try to tokenize text with the modified tokenizer:"
   ]
  },
  {
   "cell_type": "code",
   "execution_count": 23,
   "id": "4133c502-18ac-4412-9f43-01caf4efa3dc",
   "metadata": {},
   "outputs": [
    {
     "name": "stdout",
     "output_type": "stream",
     "text": [
      "Hello, do you like tea? <|endoftext|> In the sunlit terraces of the palace.\n"
     ]
    }
   ],
   "source": [
    "tokenizer = SimpleTokenizerV2(vocab)\n",
    "\n",
    "text1 = \"Hello, do you like tea?\"\n",
    "text2 = \"In the sunlit terraces of the palace.\"\n",
    "\n",
    "text = \" <|endoftext|> \".join((text1, text2))\n",
    "\n",
    "print(text)"
   ]
  },
  {
   "cell_type": "code",
   "execution_count": 24,
   "id": "7ed395fe-dc1b-4ed2-b85b-457cc35aab60",
   "metadata": {},
   "outputs": [
    {
     "data": {
      "text/plain": [
       "[1131, 5, 355, 1126, 628, 975, 10, 1130, 55, 988, 956, 984, 722, 988, 1131, 7]"
      ]
     },
     "execution_count": 24,
     "metadata": {},
     "output_type": "execute_result"
    }
   ],
   "source": [
    "tokenizer.encode(text)"
   ]
  },
  {
   "cell_type": "code",
   "execution_count": 25,
   "id": "059367f9-7a60-4c0d-8a00-7c4c766d0ebc",
   "metadata": {},
   "outputs": [
    {
     "data": {
      "text/plain": [
       "'<|unk|>, do you like tea? <|endoftext|> In the sunlit terraces of the <|unk|>.'"
      ]
     },
     "execution_count": 25,
     "metadata": {},
     "output_type": "execute_result"
    }
   ],
   "source": [
    "tokenizer.decode(tokenizer.encode(text))"
   ]
  },
  {
   "cell_type": "markdown",
   "id": "5c4ba34b-170f-4e71-939b-77aabb776f14",
   "metadata": {},
   "source": [
    "## 2.5 BytePair encoding"
   ]
  },
  {
   "cell_type": "markdown",
   "id": "2309494c-79cf-4a2d-bc28-a94d602f050e",
   "metadata": {},
   "source": [
    "- GPT-2 used BytePair encoding (BPE) as its tokenizer\n",
    "- it allows the model to break down words that aren't in its predefined vocabulary into smaller subword units or even individual characters, enabling it to handle out-of-vocabulary words\n",
    "- For instance, if GPT-2's vocabulary doesn't have the word \"unfamiliarword,\" it might tokenize it as [\"unfam\", \"iliar\", \"word\"] or some other subword breakdown, depending on its trained BPE merges\n",
    "- The original BPE tokenizer can be found here: [https://github.com/openai/gpt-2/blob/master/src/encoder.py](https://github.com/openai/gpt-2/blob/master/src/encoder.py)\n",
    "- In this chapter, we are using the BPE tokenizer from OpenAI's open-source [tiktoken](https://github.com/openai/tiktoken) library, which implements its core algorithms in Rust to improve computational performance\n",
    "- I created a notebook in the [./bytepair_encoder](../02_bonus_bytepair-encoder) that compares these two implementations side-by-side (tiktoken was about 5x faster on the sample text)"
   ]
  },
  {
   "cell_type": "code",
   "execution_count": null,
   "id": "ede1d41f-934b-4bf4-8184-54394a257a94",
   "metadata": {},
   "outputs": [],
   "source": [
    "# pip install tiktoken"
   ]
  },
  {
   "cell_type": "code",
   "execution_count": null,
   "id": "48967a77-7d17-42bf-9e92-fc619d63a59e",
   "metadata": {},
   "outputs": [
    {
     "name": "stdout",
     "output_type": "stream",
     "text": [
      "tiktoken version: 0.9.0\n"
     ]
    }
   ],
   "source": [
    "import importlib\n",
    "import tiktoken\n",
    "\n",
    "print(\"tiktoken version:\", importlib.metadata.version(\"tiktoken\"))"
   ]
  },
  {
   "cell_type": "code",
   "execution_count": null,
   "id": "6ad3312f-a5f7-4efc-9d7d-8ea09d7b5128",
   "metadata": {},
   "outputs": [],
   "source": [
    "tokenizer = tiktoken.get_encoding(\"gpt2\")"
   ]
  },
  {
   "cell_type": "code",
   "execution_count": null,
   "id": "3b2f245e",
   "metadata": {},
   "outputs": [
    {
     "name": "stdout",
     "output_type": "stream",
     "text": [
      "[15496, 11, 466, 345, 588, 8887, 30]\n"
     ]
    }
   ],
   "source": [
    "print(tokenizer.encode(\"Hello, do you like tea?\"))"
   ]
  },
  {
   "cell_type": "code",
   "execution_count": null,
   "id": "5ff2cd85-7cfb-4325-b390-219938589428",
   "metadata": {},
   "outputs": [
    {
     "name": "stdout",
     "output_type": "stream",
     "text": [
      "[15496, 11, 466, 345, 588, 8887, 30, 220, 50256, 554, 262, 4252, 18250, 8812, 2114, 1659, 617, 34680, 27271, 13]\n",
      "20\n"
     ]
    }
   ],
   "source": [
    "text = (\n",
    "    \"Hello, do you like tea? <|endoftext|> In the sunlit terraces\"\n",
    "     \"of someunknownPlace.\"\n",
    ")\n",
    "\n",
    "integers = tokenizer.encode(text, allowed_special={\"<|endoftext|>\"})\n",
    "\n",
    "print(integers)\n",
    "print(len(integers))\n"
   ]
  },
  {
   "cell_type": "code",
   "execution_count": null,
   "id": "d26a48bb-f82e-41a8-a955-a1c9cf9d50ab",
   "metadata": {},
   "outputs": [
    {
     "name": "stdout",
     "output_type": "stream",
     "text": [
      "Hello, do you like tea? <|endoftext|> In the sunlit terracesof someunknownPlace.\n"
     ]
    }
   ],
   "source": [
    "strings = tokenizer.decode(integers)\n",
    "\n",
    "print(strings)"
   ]
  },
  {
   "cell_type": "markdown",
   "id": "e8c2e7b4-6a22-42aa-8e4d-901f06378d4a",
   "metadata": {},
   "source": [
    "- BPE tokenizers break down unknown words into subwords and individual characters:"
   ]
  },
  {
   "cell_type": "markdown",
   "id": "c082d41f-33d7-4827-97d8-993d5a84bb3c",
   "metadata": {},
   "source": [
    "<img src=\"https://sebastianraschka.com/images/LLMs-from-scratch-images/ch02_compressed/11.webp\" width=\"300px\">"
   ]
  },
  {
   "cell_type": "markdown",
   "id": "abbd7c0d-70f8-4386-a114-907e96c950b0",
   "metadata": {},
   "source": [
    "## 2.6 Data sampling with a sliding window"
   ]
  },
  {
   "cell_type": "markdown",
   "id": "509d9826-6384-462e-aa8a-a7c73cd6aad0",
   "metadata": {},
   "source": [
    "- We train LLMs to generate one word at a time, so we want to prepare the training data accordingly where the next word in a sequence represents the target to predict:"
   ]
  },
  {
   "cell_type": "markdown",
   "id": "39fb44f4-0c43-4a6a-9c2f-9cf31452354c",
   "metadata": {},
   "source": [
    "<img src=\"https://sebastianraschka.com/images/LLMs-from-scratch-images/ch02_compressed/12.webp\" width=\"400px\">"
   ]
  },
  {
   "cell_type": "code",
   "execution_count": 26,
   "id": "848d5ade-fd1f-46c3-9e31-1426e315c71b",
   "metadata": {},
   "outputs": [
    {
     "name": "stdout",
     "output_type": "stream",
     "text": [
      "4690\n"
     ]
    }
   ],
   "source": [
    "with open(\"the-verdict.txt\", \"r\", encoding=\"utf-8\") as f:\n",
    "    raw_text = f.read()\n",
    "\n",
    "enc_text = tokenizer.encode(raw_text)\n",
    "print(len(enc_text))"
   ]
  },
  {
   "cell_type": "code",
   "execution_count": 27,
   "id": "9a68d8ea",
   "metadata": {},
   "outputs": [
    {
     "data": {
      "text/plain": [
       "[53,\n",
       " 44,\n",
       " 149,\n",
       " 1003,\n",
       " 57,\n",
       " 38,\n",
       " 818,\n",
       " 115,\n",
       " 256,\n",
       " 486,\n",
       " 6,\n",
       " 1002,\n",
       " 115,\n",
       " 500,\n",
       " 435,\n",
       " 392,\n",
       " 6,\n",
       " 908,\n",
       " 585,\n",
       " 1077,\n",
       " 709,\n",
       " 508,\n",
       " 961,\n",
       " 1016,\n",
       " 663,\n",
       " 1016,\n",
       " 535,\n",
       " 987,\n",
       " 5,\n",
       " 568,\n",
       " 988,\n",
       " 538,\n",
       " 722,\n",
       " 549,\n",
       " 496,\n",
       " 5,\n",
       " 533,\n",
       " 514,\n",
       " 370,\n",
       " 549,\n",
       " 748,\n",
       " 5,\n",
       " 661,\n",
       " 115,\n",
       " 841,\n",
       " 1102,\n",
       " 5,\n",
       " 157,\n",
       " 397,\n",
       " 547]"
      ]
     },
     "execution_count": 27,
     "metadata": {},
     "output_type": "execute_result"
    }
   ],
   "source": [
    "enc_text[:50]"
   ]
  },
  {
   "cell_type": "markdown",
   "id": "cebd0657-5543-43ca-8011-2ae6bd0a5810",
   "metadata": {},
   "source": [
    "- For each text chunk, we want the inputs and targets\n",
    "- Since we want the model to predict the next word, the targets are the inputs shifted by one position to the right"
   ]
  },
  {
   "cell_type": "code",
   "execution_count": 29,
   "id": "e84424a7-646d-45b6-99e3-80d15fb761f2",
   "metadata": {},
   "outputs": [
    {
     "name": "stdout",
     "output_type": "stream",
     "text": [
      "[568, 115, 1066, 727, 988, 84, 7, 3, 99, 53, 818, 1003, 585, 1120, 530, 208, 85, 734, 34, 7, 4, 1, 93, 538, 722, 549, 496, 1, 6, 987, 1077, 1089, 988, 1112, 242, 585, 7, 53, 244, 535, 67, 7, 37, 100, 6, 549, 602, 25, 897, 6, 326, 549, 1042, 116, 7, 1, 73, 297, 585, 2, 850, 498, 1016, 866, 988, 1059, 722, 697, 769, 2, 1083, 1051, 9, 239, 53, 359, 2, 970, 998, 722, 987, 5, 66, 7, 83, 6, 988, 646, 1016, 16, 584, 145, 53, 998, 722, 7, 1, 93, 1116, 5, 727, 67, 7, 100, 2, 850, 633, 5, 693, 586, 114, 847, 114, 177, 1002, 994, 1088, 827, 568, 156, 389, 1069, 722, 677, 7, 14, 585, 1077, 711, 731, 988, 67, 7, 101, 1097, 688, 7, 45, 711, 988, 410, 50, 28, 5, 180, 988, 602, 40, 36, 882, 5, 929, 663, 209, 38, 2, 850, 1, 65, 1, 1016, 856, 5, 1108, 976, 568, 539, 417, 8, 1, 107, 875, 711, 642, 1053, 586, 628, 140, 1, 10, 108, 0, 6, 399, 1007, 988, 795, 722, 50, 2, 850, 976, 53, 436, 117, 1016, 418, 988, 420, 1108, 395, 7, 80, 57, 38, 0, 93, 1112, 514, 654, 546, 6, 585, 1077, 444, 987, 994, 879, 687, 546, 7, 13, 549, 742, 872, 438, 829, 1088, 536, 5, 157, 568, 549, 742, 1026, 528, 115, 694, 7, 81, 589, 10, 79, 7, 54, 585, 1088, 5, 988, 553, 722, 988, 299, 1077, 1067, 241, 635, 26, 72, 5, 1097, 5, 568, 145, 500, 425, 5, 234, 738, 568, 988, 21, 115, 1065, 523, 1, 717, 1, 727, 57, 6, 729, 722, 1001, 884, 175, 927, 1108, 817, 977, 987, 53, 530, 536, 3, 53, 1113, 2, 970, 856, 241, 1099, 4, 281, 1016, 38, 2, 850, 748, 7, 14, 908, 6, 549, 838, 213, 165, 583, 6, 988, 345, 505, 337, 738, 5, 157, 5, 177, 67, 7, 100, 514, 786, 5, 988, 792, 722, 1, 39, 1, 1087, 1051, 7, 56, 1077, 711, 1010, 1004, 1123, 604, 987, 5, 568, 988, 297, 722, 115, 437, 1085, 2, 565, 727, 988, 84, 5, 585, 950, 720, 1016, 663, 1016, 1114, 1100, 38, 514, 491, 1051, 549, 748, 7, 75, 828, 5, 585, 821, 1077, 115, 981, 796, 7, 102, 125, 549, 1103, 1120, 530, 208, 1020, 375, 6, 549, 424, 898, 514, 208, 325, 988, 909, 722, 857, 987, 67, 7, 38, 514, 1, 364, 546, 362, 7, 1, 35, 67, 7, 38, 6, 177, 949, 6, 514, 711, 408, 1010, 702, 115, 1122, 138, 57, 2, 850, 838, 514, 208, 973, 7, 56, 671, 198, 987, 533, 514, 661, 539, 6, 895, 533, 629, 549, 373, 6, 205, 533, 336, 2, 970, 1074, 1016, 497, 727, 748, 9, 239, 585, 1120, 530, 208, 527, 1016, 801, 987, 533, 514, 491, 1051, 549, 748, 205, 533, 514, 661, 539, 7, 73, 297, 5, 566, 876, 514, 711, 364, 546, 362, 5, 876, 514, 394, 5, 177, 62, 28, 288, 5, 422, 1016, 1, 624, 546, 1051, 1, 6, 876, 514, 711, 615, 546, 191, 1016, 988, 374, 7, 102, 806, 988, 236, 579, 549, 521, 140, 6, 1089, 115, 1070, 456, 115, 1103, 0, 22, 67, 7, 38, 167, 1016, 530, 347, 585, 6, 157, 53, 436, 585, 671, 198, 578, 1016, 440, 738, 1100, 7, 93, 332, 622, 722, 988, 84, 618, 587, 1016, 949, 804, 124, 916, 9, 157, 532, 5, 727, 697, 1083, 1016, 64, 24, 5, 250, 115, 494, 722, 57, 2, 850, 195, 984, 218, 988, 771, 5, 53, 514, 698, 224, 1000, 988, 708, 315, 7, 53, 469, 988, 296, 180, 975, 215, 989, 751, 9, 157, 67, 7, 38, 2, 850, 1086, 1077, 908, 485, 987, 5, 568, 988, 393, 1085, 5, 53, 268, 585, 475, 7, 56, 1077, 711, 987, 697, 555, 1077, 1, 578, 1, 8, 727, 987, 779, 53, 292, 530, 491, 62, 28, 988, 479, 824, 7, 56, 1077, 590, 205, 876, 1077, 114, 711, 114, 578, 6, 566, 53, 662, 198, 755, 988, 237, 6, 987, 53, 469, 539, 908, 7, 35, 57, 5, 145, 549, 622, 5, 514, 208, 963, 241, 578, 1112, 8, 994, 514, 468, 549, 174, 5, 585, 514, 208, 822, 568, 988, 556, 722, 989, 133, 7, 14, 585, 1077, 993, 577, 1016, 712, 1089, 378, 988, 1, 318, 181, 722, 665, 1, 3, 53, 814, 62, 28, 4, 1077, 532, 727, 546, 7, 53, 530, 667, 987, 67, 7, 38, 1077, 841, 9, 157, 585, 1077, 567, 764, 987, 539, 562, 1077, 414, 477, 999, 266, 115, 323, 239, 947, 853, 7, 56, 584, 5, 177, 115, 848, 5, 988, 763, 1097, 859, 681, 1097, 488, 686, 738, 722, 585, 9, 157, 57, 2, 850, 384, 346, 722, 549, 1103, 2, 850, 219, 193, 387, 546, 5, 1108, 156, 166, 722, 765, 501, 5, 1016, 1027, 585, 579, 719, 722, 174, 157, 652, 7, 102, 988, 605, 5, 53, 696, 129, 5, 533, 831, 830, 570, 9, 239, 533, 1077, 240, 82, 233, 157, 382, 770, 1108, 115, 344, 987, 216, 988, 154, 839, 7, 1, 63, 2, 850, 731, 406, 584, 1016, 806, 203, 579, 265, 5, 1, 1077, 729, 722, 988, 189, 533, 598, 362, 127, 988, 87, 157, 890, 722, 156, 411, 168, 651, 5, 1090, 5, 727, 115, 604, 315, 5, 53, 514, 140, 849, 741, 477, 64, 24, 9, 157, 67, 7, 38, 5, 199, 727, 546, 5, 130, 456, 697, 391, 8, 1, 57, 584, 908, 684, 868, 1016, 403, 464, 722, 203, 7, 1, 80, 57, 0, 56, 514, 149, 208, 549, 431, 1016, 530, 1112, 856, 949, 997, 722, 546, 8, 988, 420, 879, 198, 871, 362, 568, 412, 7, 109, 943, 663, 714, 1077, 987, 5, 456, 988, 442, 1011, 5, 533, 837, 988, 1018, 7, 53, 514, 864, 546, 5, 908, 724, 5, 196, 1044, 891, 1031, 6, 1077, 585, 988, 285, 712, 987, 843, 990, 722, 989, 854, 10, 70, 6, 456, 5, 721, 392, 5, 585, 204, 164, 987, 533, 1077, 454, 722, 67, 7, 38, 6, 454, 392, 711, 1016, 862, 539, 123, 7, 56, 1077, 549, 742, 123, 533, 863, 1016, 198, 1105, 1044, 6, 549, 742, 185, 177, 156, 718, 456, 483, 157, 569, 7, 1, 68, 319, 5, 895, 53, 2, 1062, 261, 748, 763, 359, 2, 970, 856, 987, 945, 118, 663, 6, 994, 856, 585, 118, 105, 42, 5, 1, 1077, 549, 731, 800, 5, 177, 533, 846, 477, 988, 971, 157, 940, 738, 732, 988, 956, 983, 7, 53, 493, 138, 546, 5, 943, 241, 549, 602, 1116, 7, 105, 42, 1077, 5, 568, 420, 5, 206, 988, 656, 722, 988, 680, 6, 177, 57, 547, 5, 729, 671, 806, 585, 5, 514, 208, 988, 656, 722, 988, 557, 7, 93, 1127, 176, 1077, 851, 1016, 530, 465, 547, 180, 697, 476, 2, 850, 433, 5, 157, 53, 1115, 566, 115, 1013, 722, 589, 1045, 988, 605, 2, 850, 699, 116, 7, 22, 709, 6, 456, 585, 1077, 711, 1010, 138, 987, 400, 987, 988, 114, 846, 32, 114, 366, 514, 211, 1016, 350, 989, 1, 43, 7, 1, 53, 1037, 1016, 67, 7, 38, 5, 1097, 514, 632, 1016, 490, 115, 650, 722, 952, 1016, 539, 914, 568, 988, 341, 7, 1, 111, 114, 529, 114, 533, 261, 748, 10, 1, 53, 179, 120, 7, 88, 816, 539, 416, 1108, 115, 548, 722, 502, 961, 7, 1, 74, 5, 533, 356, 2, 970, 114, 530, 114, 1016, 714, 5, 1126, 596, 9, 157, 53, 1074, 546, 1016, 390, 547, 5, 1, 876, 851, 813, 894, 7, 53, 643, 118, 988, 913, 1096, 845, 5, 1108, 586, 114, 428, 114, 1061, 834, 988, 1019, 722, 988, 749, 312, 309, 5, 157, 586, 382, 760, 568, 323, 421, 474, 7, 1, 47, 533, 261, 549, 770, 1020, 10, 53, 531, 2, 970, 864, 115, 896, 729, 568, 988, 559, 7, 1, 11, 901, 873, 722, 286, 301, 67, 7, 38, 2, 850, 733, 295, 7, 1, 56, 2, 850, 549, 842, 679, 5, 1126, 596, 7, 48, 858, 994, 2, 819, 711, 443, 1016, 530, 118, 9, 533, 2, 850, 869, 990, 145, 187, 405, 729, 6, 697, 782, 6, 157, 987, 53, 530, 1016, 591, 1055, 7, 1, 51, 842, 679, 6, 57, 2, 850, 679, 118, 549, 770, 10, 68, 306, 1077, 513, 628, 988, 200, 7, 53, 851, 767, 1016, 697, 555, 8, 1, 53, 696, 821, 862, 1128, 782, 5, 1126, 596, 7, 1, 88, 493, 738, 146, 1012, 180, 988, 983, 1092, 539, 562, 5, 647, 568, 115, 554, 252, 5, 514, 634, 115, 262, 157, 367, 988, 86, 321, 2, 850, 534, 218, 549, 594, 7, 1, 108, 5, 277, 1094, 533, 2, 850, 711, 644, 5, 1, 876, 851, 5, 1108, 115, 606, 987, 1033, 1016, 544, 539, 705, 9, 157, 53, 453, 539, 218, 988, 660, 33, 722, 988, 520, 5, 157, 1051, 988, 1101, 920, 1108, 982, 715, 780, 153, 449, 180, 371, 600, 7, 55, 988, 339, 290, 722, 539, 225, 5, 152, 115, 799, 722, 323, 157, 352, 719, 5, 561, 729, 722, 988, 427, 740, 246, 5, 568, 988, 571, 482, 473, 7, 93, 668, 739, 722, 988, 473, 242, 1051, 145, 38, 2, 850, 759, 0, 67, 7, 38, 369, 191, 988, 1106, 5, 690, 178, 115, 114, 588, 114, 478, 722, 772, 190, 5, 805, 156, 171, 187, 5, 157, 851, 8, 1, 54, 1126, 922, 540, 1126, 244, 590, 657, 1016, 862, 585, 7, 53, 514, 585, 741, 988, 659, 5, 239, 533, 1121, 2, 970, 620, 585, 925, 7, 1, 112, 6, 53, 292, 590, 657, 1016, 862, 585, 6, 988, 442, 782, 722, 57, 2, 850, 53, 514, 401, 514, 1016, 933, 697, 417, 741, 0, 103, 994, 514, 988, 773, 722, 553, 6, 856, 988, 251, 752, 568, 115, 749, 1124, 734, 114, 846, 32, 114, 365, 5, 734, 115, 682, 374, 774, 908, 987, 585, 1021, 988, 626, 1007, 309, 722, 726, 104, 779, 7, 93, 685, 678, 773, 204, 988, 769, 217, 9, 1125, 5, 177, 697, 417, 511, 126, 1016, 988, 518, 5, 145, 988, 254, 807, 243, 738, 6, 145, 988, 543, 349, 177, 186, 5, 988, 1032, 722, 789, 241, 1093, 5, 1108, 949, 287, 900, 5, 533, 658, 1016, 354, 184, 477, 988, 820, 238, 722, 988, 769, 1016, 910, 790, 582, 722, 333, 7, 67, 7, 38, 5, 788, 115, 706, 960, 1016, 1117, 727, 6, 466, 5, 177, 585, 1088, 5, 908, 572, 988, 192, 722, 539, 742, 769, 6, 514, 619, 542, 568, 156, 1050, 322, 1016, 988, 350, 722, 999, 426, 1068, 7, 93, 769, 1077, 729, 722, 57, 2, 850, 1, 941, 5, 1, 177, 549, 131, 1120, 530, 806, 585, 6, 585, 835, 5, 727, 549, 756, 5, 115, 967, 722, 695, 5, 115, 284, 722, 1063, 5, 115, 194, 5, 931, 157, 934, 5, 987, 833, 729, 722, 988, 267, 2, 850, 580, 380, 1016, 624, 115, 432, 7, 56, 670, 5, 568, 878, 5, 180, 403, 779, 988, 324, 722, 648, 1111, 1016, 198, 746, 1, 942, 1, 205, 876, 1077, 1015, 722, 213, 746, 1, 965, 1, 6, 157, 1125, 711, 1016, 645, 156, 182, 722, 988, 966, 7, 1, 56, 2, 850, 988, 602, 533, 746, 5, 1126, 596, 5, 1, 67, 7, 38, 851, 1108, 754, 793, 7, 1, 93, 602, 239, 729, 5, 1, 876, 291, 542, 6, 1, 239, 988, 735, 356, 2, 970, 294, 5, 205, 533, 330, 585, 7, 1, 1, 29, 585, 10, 1, 53, 1077, 118, 1016, 452, 1051, 999, 273, 1090, 53, 536, 115, 455, 157, 855, 57, 547, 727, 988, 1005, 7, 17, 533, 928, 992, 5, 549, 522, 568, 988, 778, 722, 549, 1064, 274, 5, 988, 995, 235, 1082, 722, 516, 805, 191, 477, 549, 1095, 459, 5, 549, 610, 955, 258, 481, 241, 115, 905, 987, 625, 988, 1014, 722, 115, 865, 689, 5, 53, 436, 1016, 1089, 115, 322, 533, 514, 988, 852, 808, 177, 549, 770, 6, 988, 808, 722, 644, 271, 986, 533, 1077, 7, 51, 1103, 493, 180, 546, 328, 5, 239, 549, 417, 1029, 759, 539, 1016, 988, 782, 7, 1, 66, 7, 83, 1075, 1016, 862, 585, 5, 1, 876, 210, 5, 177, 566, 407, 542, 7, 48, 886, 549, 881, 5, 926, 906, 7, 1, 74, 5, 83, 469, 663, 738, 639, 141, 5, 1, 533, 851, 627, 9, 991, 5, 758, 549, 170, 1007, 674, 8, 1, 27, 157, 862, 988, 840, 722, 988, 559, 7, 1, 48, 883, 585, 1016, 663, 1108, 115, 593, 722, 700, 948, 793, 8, 988, 197, 5, 988, 915, 5, 988, 368, 5, 988, 1034, 6, 145, 988, 282, 893, 722, 988, 673, 2, 850, 358, 377, 7, 14, 1091, 697, 1114, 744, 988, 409, 1030, 533, 851, 5, 1008, 738, 549, 259, 115, 635, 8, 1, 112, 5, 53, 821, 359, 2, 970, 862, 560, 763, 657, 1016, 636, 1109, 987, 7, 1, 108, 6, 585, 1077, 590, 988, 388, 729, 671, 530, 461, 456, 546, 7, 77, 533, 1077, 5, 1007, 585, 145, 157, 568, 917, 722, 585, 145, 6, 177, 533, 514, 208, 1007, 5, 157, 568, 917, 722, 5, 549, 770, 6, 908, 523, 5, 908, 255, 5, 908, 342, 5, 987, 729, 640, 1016, 304, 738, 8, 1, 19, 351, 1108, 1128, 617, 0, 1, 177, 728, 729, 514, 640, 1016, 856, 8, 1, 19, 351, 1108, 1128, 1117, 0, 1, 22, 5, 1108, 988, 304, 727, 697, 633, 5, 697, 334, 951, 156, 1048, 257, 7, 1, 97, 584, 697, 742, 599, 5, 1, 533, 851, 5, 609, 663, 579, 115, 313, 775, 845, 180, 988, 388, 722, 988, 448, 1069, 7, 56, 1077, 919, 157, 235, 157, 613, 8, 709, 1, 379, 1, 9, 709, 230, 5, 710, 722, 988, 143, 722, 783, 456, 836, 568, 115, 769, 1084, 6, 119, 145, 5, 709, 612, 888, 722, 401, 532, 208, 1057, 177, 115, 944, 7, 93, 420, 234, 552, 1016, 663, 988, 121, 439, 722, 57, 2, 850, 227, 1108, 549, 726, 622, 7, 1, 31, 2, 970, 1126, 401, 311, 1108, 745, 161, 685, 10, 1, 53, 179, 5, 926, 644, 118, 456, 115, 1025, 722, 949, 128, 7, 1, 69, 5, 1, 533, 851, 231, 7, 1, 78, 1081, 6, 734, 398, 10, 1, 51, 283, 417, 511, 338, 5, 157, 549, 258, 750, 115, 635, 1044, 989, 523, 954, 7, 1, 69, 998, 722, 585, 5, 697, 319, 435, 6, 161, 685, 986, 566, 53, 2, 310, 707, 1023, 115, 236, 7, 1, 14, 549, 1018, 1017, 663, 568, 115, 446, 987, 533, 707, 1003, 722, 162, 385, 7, 53, 690, 187, 5, 576, 386, 241, 697, 1048, 343, 9, 157, 177, 53, 1037, 5, 697, 415, 434, 727, 115, 904, 769, 119, 988, 659, 6, 988, 731, 718, 228, 988, 775, 716, 753, 722, 988, 845, 7, 1, 74, 5, 241, 58, 0, 1, 53, 851, 7, 56, 1077, 115, 899, 722, 115, 361, 6, 156, 726, 1015, 361, 5, 923, 568, 988, 815, 1044, 115, 1072, 7, 1, 23, 58, 6, 115, 89, 0, 1, 53, 300, 7, 48, 1077, 889, 9, 239, 53, 436, 546, 272, 212, 663, 5, 229, 115, 635, 811, 7, 1, 109, 115, 1114, 0, 61, 1108, 115, 363, 631, 6, 239, 727, 402, 470, 7, 113, 649, 253, 5, 1092, 335, 1126, 488, 585, 10, 1, 48, 160, 903, 8, 1, 67, 7, 89, 484, 585, 1016, 663, 7, 1, 1, 12, 6, 53, 336, 2, 970, 596, 1126, 399, 595, 988, 90, 7, 48, 1077, 949, 156, 573, 541, 7, 1, 1, 53, 336, 2, 970, 6, 1010, 138, 7, 7, 7, 7, 88, 869, 456, 663, 1016, 745, 546, 1090, 533, 1077, 317, 7, 1, 1, 110, 533, 1077, 317, 10, 113, 10, 1, 53, 696, 530, 620, 115, 635, 1020, 691, 151, 396, 1007, 697, 961, 5, 456, 533, 160, 1108, 115, 327, 606, 8, 1, 112, 6, 876, 2, 850, 156, 188, 892, 5, 1126, 596, 5, 67, 7, 89, 7, 49, 731, 563, 1077, 1016, 530, 546, 360, 241, 115, 430, 747, 6, 142, 5, 781, 89, 0, 88, 1003, 585, 988, 959, 1083, 722, 797, 549, 510, 6, 722, 458, 585, 727, 115, 803, 802, 7, 14, 180, 988, 680, 53, 1077, 114, 988, 114, 430, 747, 7, 1, 1, 12, 5, 781, 89, 6, 177, 1126, 856, 7, 106, 114, 987, 114, 549, 550, 10, 1, 1, 92, 1077, 549, 550, 7, 88, 214, 568, 546, 5, 495, 568, 546, 6, 734, 1003, 876, 335, 7, 22, 876, 293, 2, 970, 201, 711, 1016, 530, 145, 988, 366, 1108, 539, 7, 88, 293, 2, 970, 201, 988, 420, 987, 5, 727, 1060, 316, 5, 729, 292, 149, 488, 701, 392, 1016, 862, 549, 770, 7, 80, 1111, 0, 88, 2, 850, 590, 115, 471, 512, 456, 735, 472, 7, 89, 584, 988, 731, 1098, 53, 401, 595, 7, 1, 1, 113, 401, 595, 10, 22, 1126, 590, 851, 6, 1, 38, 514, 115, 307, 905, 568, 549, 417, 7, 1, 74, 5, 53, 595, 546, 5, 157, 533, 595, 663, 6, 731, 585, 526, 138, 533, 1077, 317, 7, 1, 53, 370, 697, 1071, 576, 7, 1, 110, 876, 869, 456, 1126, 10, 1, 1, 112, 6, 813, 574, 1016, 988, 581, 7, 88, 1075, 546, 1067, 6, 157, 241, 663, 0, 1, 48, 607, 140, 5, 157, 1006, 191, 549, 534, 1016, 642, 1051, 180, 988, 899, 722, 988, 361, 7, 1, 95, 1088, 316, 1090, 53, 293, 2, 970, 642, 180, 987, 996, 6, 293, 2, 970, 418, 585, 7, 22, 53, 457, 698, 1016, 806, 585, 540, 9, 157, 714, 585, 2, 850, 305, 663, 6, 305, 663, 7, 92, 2, 850, 988, 823, 1100, 53, 359, 2, 970, 311, 161, 685, 5, 697, 319, 83, 9, 734, 818, 89, 547, 584, 988, 823, 7, 1, 35, 988, 442, 1011, 697, 564, 306, 118, 697, 280, 1037, 579, 115, 870, 329, 1016, 1047, 546, 217, 7, 1, 53, 1107, 1126, 2, 310, 979, 663, 560, 585, 526, 5, 1, 53, 851, 7, 48, 928, 644, 1051, 180, 988, 899, 5, 157, 1041, 218, 549, 441, 115, 263, 533, 514, 463, 1016, 626, 7, 91, 533, 1037, 1024, 663, 7, 1, 53, 2, 310, 818, 628, 1016, 979, 1126, 6, 205, 53, 2, 1062, 149, 964, 1126, 722, 638, 697, 1117, 7, 1, 53, 654, 115, 327, 487, 5, 1093, 533, 703, 1108, 115, 502, 885, 7, 1, 74, 5, 53, 336, 2, 970, 248, 115, 936, 1090, 53, 214, 568, 698, 6, 157, 714, 585, 2, 850, 156, 130, 1009, 218, 1056, 0, 1, 48, 607, 902, 5, 1109, 221, 5, 157, 805, 729, 722, 988, 320, 172, 467, 7, 1, 95, 8, 655, 1129, 278, 6, 157, 540, 169, 988, 264, 1126, 628, 7, 1, 48, 774, 990, 180, 697, 383, 157, 289, 1016, 1073, 1051, 157, 362, 988, 845, 5, 930, 714, 157, 991, 215, 988, 769, 7, 1, 52, 585, 526, 10, 53, 244, 979, 1126, 568, 445, 676, 6, 157, 585, 336, 2, 970, 972, 691, 641, 1016, 525, 7, 7, 7, 7, 53, 244, 832, 714, 560, 962, 157, 777, 53, 1077, 1090, 53, 503, 67, 7, 89, 2, 850, 712, 7, 73, 297, 5, 320, 362, 5, 53, 514, 149, 114, 436, 114, 992, 1077, 709, 729, 628, 546, 6, 731, 53, 514, 499, 1108, 988, 937, 5, 376, 988, 1058, 776, 118, 546, 5, 1010, 53, 517, 503, 1016, 998, 533, 1077, 115, 423, 5, 729, 722, 988, 593, 987, 169, 616, 212, 7, 23, 58, 5, 157, 533, 114, 1077, 114, 616, 212, 6, 205, 533, 514, 277, 1016, 925, 0, 93, 840, 722, 1056, 514, 1016, 620, 737, 198, 968, 148, 734, 497, 1044, 5, 239, 533, 1077, 545, 119, 988, 308, 6, 727, 402, 470, 5, 177, 1126, 856, 7, 1, 108, 5, 53, 1087, 723, 1016, 988, 559, 568, 697, 686, 381, 683, 6, 818, 690, 5, 60, 462, 663, 5, 180, 988, 761, 722, 781, 89, 2, 850, 249, 722, 423, 213, 302, 241, 988, 496, 722, 697, 748, 546, 0, 73, 297, 53, 664, 1016, 355, 988, 769, 456, 713, 6, 53, 1017, 67, 7, 89, 908, 1090, 876, 210, 1016, 921, 912, 118, 539, 785, 7, 53, 832, 489, 723, 115, 798, 768, 118, 988, 553, 213, 114, 674, 114, 6, 725, 5, 53, 1077, 794, 5, 697, 319, 83, 0, 53, 1077, 783, 1016, 698, 628, 729, 722, 697, 742, 898, 7, 1, 94, 53, 1077, 973, 1051, 157, 616, 147, 1108, 546, 7, 53, 514, 869, 145, 697, 1028, 568, 134, 5, 157, 53, 514, 731, 1016, 871, 1051, 988, 374, 157, 488, 1016, 1117, 7, 48, 514, 208, 317, 731, 1039, 558, 5, 157, 533, 337, 950, 5, 722, 537, 348, 5, 908, 987, 992, 514, 208, 709, 787, 1117, 722, 331, 6, 549, 418, 1077, 270, 157, 1049, 7, 53, 514, 670, 546, 728, 734, 1040, 5, 1123, 209, 5, 157, 1003, 546, 575, 157, 340, 7, 71, 53, 855, 987, 533, 1077, 957, 7, 1, 53, 1077, 492, 180, 442, 5, 1108, 115, 669, 135, 853, 8, 492, 1016, 530, 697, 521, 727, 949, 115, 2, 946, 7, 2, 94, 549, 935, 623, 210, 1016, 136, 663, 809, 6, 177, 53, 222, 988, 534, 568, 53, 436, 177, 566, 533, 1088, 1080, 663, 355, 585, 7, 93, 867, 1077, 453, 241, 988, 1003, 8, 566, 533, 114, 1088, 114, 1080, 663, 5, 1089, 1120, 533, 856, 1016, 697, 1083, 722, 1118, 10, 68, 939, 210, 1016, 497, 115, 635, 1104, 6, 53, 436, 704, 157, 1043, 7, 1, 76, 5, 1090, 53, 643, 1051, 5, 53, 863, 1016, 862, 115, 905, 212, 549, 272, 507, 202, 6, 177, 566, 533, 514, 988, 861, 5, 157, 1088, 155, 547, 241, 551, 585, 191, 477, 663, 7, 92, 404, 663, 926, 685, 7, 93, 861, 10, 111, 5, 53, 514, 115, 861, 1119, 1038, 722, 549, 0, 53, 314, 180, 988, 245, 480, 5, 157, 1033, 910, 722, 697, 226, 1032, 7, 22, 994, 422, 663, 5, 994, 303, 7, 53, 855, 987, 533, 1078, 2, 970, 1080, 988, 884, 220, 6, 53, 293, 2, 970, 353, 549, 184, 9, 533, 590, 592, 549, 417, 727, 988, 527, 757, 218, 7, 98, 1088, 988, 730, 53, 514, 149, 877, 5, 734, 298, 1051, 1108, 910, 653, 745, 7, 14, 560, 533, 855, 1007, 697, 621, 0, 1, 53, 643, 1051, 140, 5, 157, 250, 887, 722, 987, 899, 722, 988, 361, 524, 727, 988, 1072, 701, 549, 207, 7, 51, 1103, 1017, 663, 139, 585, 1077, 988, 602, 996, 533, 514, 360, 6, 590, 115, 712, 973, 1108, 115, 874, 521, 5, 1090, 533, 1077, 362, 568, 30, 825, 477, 115, 791, 537, 183, 7, 59, 115, 712, 0, 22, 585, 980, 549, 1098, 550, 7, 95, 169, 1123, 722, 762, 860, 766, 568, 403, 630, 7, 11, 656, 1097, 514, 969, 1108, 988, 308, 292, 707, 530, 611, 987, 672, 1052, 938, 7, 7, 7, 7, 1, 53, 1037, 191, 1016, 697, 1117, 5, 157, 1087, 727, 512, 157, 692, 9, 991, 53, 643, 180, 988, 361, 140, 7, 53, 855, 987, 5, 1090, 89, 598, 568, 988, 442, 938, 5, 533, 595, 590, 1089, 988, 388, 1120, 198, 7, 48, 514, 784, 549, 946, 5, 122, 585, 5, 826, 585, 7, 110, 514, 53, 360, 987, 1108, 161, 722, 697, 997, 10, 96, 515, 2, 970, 208, 223, 722, 663, 6, 53, 514, 590, 132, 990, 7, 7, 7, 7, 1, 46, 585, 5, 83, 5, 1108, 987, 418, 1080, 663, 53, 293, 2, 970, 355, 158, 938, 7, 93, 775, 1036, 1077, 5, 53, 336, 2, 970, 596, 1092, 1016, 806, 585, 6, 114, 53, 514, 707, 597, 114, 7, 77, 5, 1108, 697, 898, 157, 697, 802, 5, 115, 884, 918, 722, 276, 298, 1051, 988, 420, 6, 53, 590, 1006, 745, 579, 989, 419, 7, 7, 7, 7, 108, 5, 745, 1077, 988, 729, 666, 1001, 317, 417, 292, 862, 1007, 6, 862, 932, 1016, 988, 1022, 470, 1046, 7, 31, 2, 970, 1126, 596, 560, 5, 568, 974, 115, 460, 601, 5, 399, 450, 5, 729, 858, 517, 988, 1011, 711, 1089, 729, 1076, 1016, 239, 1089, 729, 244, 10, 108, 6, 987, 1077, 988, 1083, 53, 746, 9, 157, 177, 533, 608, 992, 157, 1079, 663, 5, 988, 996, 994, 242, 697, 2, 978, 2, 275, 628, 115, 559, 722, 247, 7, 48, 336, 2, 970, 907, 5, 1126, 1047, 5, 781, 89, 6, 533, 590, 608, 992, 812, 1080, 5, 157, 727, 549, 633, 5, 1007, 988, 506, 202, 5, 53, 863, 1016, 535, 988, 810, 8, 2, 15, 1126, 958, 1126, 596, 1092, 1126, 2, 819, 279, 738, 10, 2, 1, 54, 53, 292, 530, 746, 987, 418, 5, 1108, 987, 810, 727, 585, 5, 53, 879, 530, 360, 115, 508, 996, 7, 93, 708, 509, 996, 1077, 1016, 862, 987, 53, 293, 2, 970, 6, 157, 987, 504, 1077, 491, 663, 7, 22, 5, 725, 5, 180, 987, 675, 5, 83, 5, 1077, 992, 162, 727, 372, 53, 1121, 2, 970, 530, 491, 1016, 530, 89, 144, 209, 663, 5, 157, 1016, 535, 546, 856, 8, 2, 56, 2, 850, 711, 1020, 603, 6, 53, 2, 637, 882, 1126, 560, 2, 10, 1, 56, 114, 1077, 114, 1020, 603, 6, 585, 1120, 530, 208, 5, 399, 566, 533, 2, 310, 208, 144, 7, 53, 743, 1051, 697, 1028, 5, 157, 1087, 362, 157, 1017, 67, 7, 89, 7, 73, 297, 53, 336, 2, 970, 979, 539, 114, 987, 114, 6, 585, 1120, 530, 208, 41, 1016, 539, 7, 53, 894, 851, 53, 293, 2, 970, 745, 546, 5, 987, 53, 1077, 1020, 690, 7, 88, 818, 629, 988, 563, 6, 876, 2, 850, 908, 844, 0, 56, 1077, 987, 987, 654, 539, 490, 663, 988, 361, 7, 22, 876, 1077, 985, 1054, 180, 711, 489, 988, 782, 6, 876, 335, 908, 1074, 546, 2, 360, 2, 241, 910, 729, 884, 0, 18, 442, 53, 1077, 137, 876, 1121, 2, 970, 620, 663, 723, 6, 157, 180, 697, 1110, 2, 388, 53, 953, 42, 7, 112, 5, 585, 1077, 53, 1097, 924, 42, 8, 53, 1017, 67, 7, 89, 533, 1077, 988, 2, 279, 2, 656, 5, 157, 876, 1017, 911, 385, 5, 157, 908, 585, 503, 1016, 198, 1035, 7, 7, 7, 7, 14, 533, 746, 89, 1109, 1105, 9, 157, 876, 561, 988, 769, 153, 539, 562, 2, 850, 997, 7, 7, 7, 7, 1, 48, 451, 547, 362, 568, 988, 171, 701, 674, 5, 598, 191, 549, 534, 5, 157, 269, 549, 173, 215, 585, 5, 643, 1051, 180, 988, 769, 119, 988, 260, 7, 1, 53, 628, 1016, 429, 987, 89, 547, 1120, 530, 491, 585, 1016, 663, 5, 566, 533, 2, 310, 208, 117, 1016, 856, 1089, 533, 1003, 987, 315, 7, 1, 14, 5, 568, 159, 1016, 115, 810, 53, 806, 519, 6, 1, 20, 140, 10, 1, 533, 447, 738, 7, 1, 110, 988, 729, 996, 987, 232, 663, 163, 701, 546, 584, 987, 53, 595, 392, 1016, 614, 723, 10, 1, 48, 928, 1051, 157, 598, 549, 521, 727, 697, 880, 1108, 115, 606, 7, 1, 77, 988, 581, 722, 585, 584, 987, 53, 114, 150, 114, 926, 748, 6, 895, 42, 2, 850, 357, 585, 456, 663, 0, 93, 90, 922, 147, 5, 157, 525, 728, 6, 239, 992, 2, 850, 709, 413, 736, 593, 722, 174, 7, 1]\n",
      "in a villa on the Riviera.( Though I rather thought it would have been Rome or Florence.)\" The height of his glory\" -- that was what the women called it. I can hear Mrs. Gideon Thwing -- his last Chicago sitter -- deploring his unaccountable abdication.\" Of course it' s going to send the value of my picture' way up; but I don' t think of that, Mr. Rickham -- the loss to Arrt is all I think of.\" The word, on Mrs. Thwing' s lips, multiplied its _ rs _ as though they were reflected in an endless vista of mirrors. And it was not only the Mrs. Thwings who mourned. Had not the exquisite Hermia Croft, at the last Grafton Gallery show, stopped me before Gisburn' s\" Moon-dancers\" to say, with tears in her eyes:\" We shall not look upon its like again\"? Well! -- even through the prism of Hermia' s tears I felt able to face the fact with equanimity. Poor Jack Gisburn! The women had made him -- it was fitting that they should mourn him. Among his own sex fewer regrets were heard, and in his own trade hardly a murmur. Professional jealousy? Perhaps. If it were, the honour of the craft was vindicated by little Claude Nutley, who, in all good faith, brought out in the Burlington a very handsome\" obituary\" on Jack -- one of those showy articles stocked with random technicalities that I have heard( I won' t say by whom) compared to Gisburn' s painting. And so -- his resolve being apparently irrevocable -- the discussion gradually died out, and, as Mrs. Thwing had predicted, the price of\" Gisburns\" went up. It was not till three years later that, in the course of a few weeks' idling on the Riviera, it suddenly occurred to me to wonder why Gisburn had given up his painting. On reflection, it really was a tempting problem. To accuse his wife would have been too easy -- his fair sitters had been denied the solace of saying that Mrs. Gisburn had\" dragged him down.\" For Mrs. Gisburn -- as such -- had not existed till nearly a year after Jack' s resolve had been taken. It might be that he had married her -- since he liked his ease -- because he didn' t want to go on painting; but it would have been hard to prove that he had given up his painting because he had married her. Of course, if she had not dragged him down, she had equally, as Miss Croft contended, failed to\" lift him up\" -- she had not led him back to the easel. To put the brush into his hand again -- what a vocation for a wife! But Mrs. Gisburn appeared to have disdained it -- and I felt it might be interesting to find out why. The desultory life of the Riviera lends itself to such purely academic speculations; and having, on my way to Monte Carlo, caught a glimpse of Jack' s balustraded terraces between the pines, I had myself borne thither the next day. I found the couple at tea beneath their palm-trees; and Mrs. Gisburn' s welcome was so genial that, in the ensuing weeks, I claimed it frequently. It was not that my hostess was\" interesting\": on that point I could have given Miss Croft the fullest reassurance. It was just because she was _ not _ interesting -- if I may be pardoned the bull -- that I found her so. For Jack, all his life, had been surrounded by interesting women: they had fostered his art, it had been reared in the hot-house of their adulation. And it was therefore instructive to note what effect the\" deadening atmosphere of mediocrity\"( I quote Miss Croft) was having on him. I have mentioned that Mrs. Gisburn was rich; and it was immediately perceptible that her husband was extracting from this circumstance a delicate but substantial satisfaction. It is, as a rule, the people who scorn money who get most out of it; and Jack' s elegant disdain of his wife' s big balance enabled him, with an appearance of perfect good-breeding, to transmute it into objects of art and luxury. To the latter, I must add, he remained relatively indifferent; but he was buying Renaissance bronzes and eighteenth-century pictures with a discrimination that bespoke the amplest resources.\" Money' s only excuse is to put beauty into circulation,\" was one of the axioms he laid down across the Sevres and silver of an exquisitely appointed luncheon-table, when, on a later day, I had again run over from Monte Carlo; and Mrs. Gisburn, beaming on him, added for my enlightenment:\" Jack is so morbidly sensitive to every form of beauty.\" Poor Jack! It had always been his fate to have women say such things of him: the fact should be set down in extenuation. What struck me now was that, for the first time, he resented the tone. I had seen him, so often, basking under similar tributes -- was it the conjugal note that robbed them of their savour? No -- for, oddly enough, it became apparent that he was fond of Mrs. Gisburn -- fond enough not to see her absurdity. It was his own absurdity he seemed to be wincing under -- his own attitude as an object for garlands and incense.\" My dear, since I' ve chucked painting people don' t say that stuff about me -- they say it about Victor Grindle,\" was his only protest, as he rose from the table and strolled out onto the sunlit terrace. I glanced after him, struck by his last word. Victor Grindle was, in fact, becoming the man of the moment -- as Jack himself, one might put it, had been the man of the hour. The younger artist was said to have formed himself at my friend' s feet, and I wondered if a tinge of jealousy underlay the latter' s mysterious abdication. But no -- for it was not till after that event that the _ rose Dubarry _ drawing-rooms had begun to display their\" Grindles.\" I turned to Mrs. Gisburn, who had lingered to give a lump of sugar to her spaniel in the dining-room.\" Why _ has _ he chucked painting?\" I asked abruptly. She raised her eyebrows with a hint of good-humoured surprise.\" Oh, he doesn' t _ have _ to now, you know; and I want him to enjoy himself,\" she said quite simply. I looked about the spacious white-panelled room, with its _ famille-verte _ vases repeating the tones of the pale damask curtains, and its eighteenth-century pastels in delicate faded frames.\" Has he chucked his pictures too? I haven' t seen a single one in the house.\" A slight shade of constraint crossed Mrs. Gisburn' s open countenance.\" It' s his ridiculous modesty, you know. He says they' re not fit to have about; he' s sent them all away except one -- my portrait -- and that I have to keep upstairs.\" His ridiculous modesty -- Jack' s modesty about his pictures? My curiosity was growing like the bean-stalk. I said persuasively to my hostess:\" I must really see your portrait, you know.\" She glanced out almost timorously at the terrace where her husband, lounging in a hooded chair, had lit a cigar and drawn the Russian deerhound' s head between his knees.\" Well, come while he' s not looking,\" she said, with a laugh that tried to hide her nervousness; and I followed her between the marble Emperors of the hall, and up the wide stairs with terra-cotta nymphs poised among flowers at each landing. In the dimmest corner of her boudoir, amid a profusion of delicate and distinguished objects, hung one of the familiar oval canvases, in the inevitable garlanded frame. The mere outline of the frame called up all Gisburn' s past! Mrs. Gisburn drew back the window-curtains, moved aside a _ jardiniere _ full of pink azaleas, pushed an arm-chair away, and said:\" If you stand here you can just manage to see it. I had it over the mantel-piece, but he wouldn' t let it stay.\" Yes -- I could just manage to see it -- the first portrait of Jack' s I had ever had to strain my eyes over! Usually they had the place of honour -- say the central panel in a pale yellow or _ rose Dubarry _ drawing-room, or a monumental easel placed so that it took the light through curtains of old Venetian point. The more modest place became the picture better; yet, as my eyes grew accustomed to the half-light, all the characteristic qualities came out -- all the hesitations disguised as audacities, the tricks of prestidigitation by which, with such consummate skill, he managed to divert attention from the real business of the picture to some pretty irrelevance of detail. Mrs. Gisburn, presenting a neutral surface to work on -- forming, as it were, so inevitably the background of her own picture -- had lent herself in an unusual degree to the display of this false virtuosity. The picture was one of Jack' s\" strongest,\" as his admirers would have put it -- it represented, on his part, a swelling of muscles, a congesting of veins, a balancing, straddling and straining, that reminded one of the circus-clown' s ironic efforts to lift a feather. It met, in short, at every point the demand of lovely woman to be painted\" strongly\" because she was tired of being painted\" sweetly\" -- and yet not to lose an atom of the sweetness.\" It' s the last he painted, you know,\" Mrs. Gisburn said with pardonable pride.\" The last but one,\" she corrected herself --\" but the other doesn' t count, because he destroyed it.\"\" Destroyed it?\" I was about to follow up this clue when I heard a footstep and saw Jack himself on the threshold. As he stood there, his hands in the pockets of his velveteen coat, the thin brown waves of hair pushed back from his white forehead, his lean sunburnt cheeks furrowed by a smile that lifted the tips of a self-confident moustache, I felt to what a degree he had the same quality as his pictures -- the quality of looking cleverer than he was. His wife glanced at him deprecatingly, but his eyes travelled past her to the portrait.\" Mr. Rickham wanted to see it,\" she began, as if excusing herself. He shrugged his shoulders, still smiling.\" Oh, Rickham found me out long ago,\" he said lightly; then, passing his arm through mine:\" Come and see the rest of the house.\" He showed it to me with a kind of naive suburban pride: the bath-rooms, the speaking-tubes, the dress-closets, the trouser-presses -- all the complex simplifications of the millionaire' s domestic economy. And whenever my wonder paid the expected tribute he said, throwing out his chest a little:\" Yes, I really don' t see how people manage to live without that.\" Well -- it was just the end one might have foreseen for him. Only he was, through it all and in spite of it all -- as he had been through, and in spite of, his pictures -- so handsome, so charming, so disarming, that one longed to cry out:\" Be dissatisfied with your leisure!\" as once one had longed to say:\" Be dissatisfied with your work!\" But, with the cry on my lips, my diagnosis suffered an unexpected check.\" This is my own lair,\" he said, leading me into a dark plain room at the end of the florid vista. It was square and brown and leathery: no\" effects\"; no bric-a-brac, none of the air of posing for reproduction in a picture weekly -- above all, no least sign of ever having been used as a studio. The fact brought home to me the absolute finality of Jack' s break with his old life.\" Don' t you ever dabble with paint any more?\" I asked, still looking about for a trace of such activity.\" Never,\" he said briefly.\" Or water-colour -- or etching?\" His confident eyes grew dim, and his cheeks paled a little under their handsome sunburn.\" Never think of it, my dear fellow -- any more than if I' d never touched a brush.\" And his tone told me in a flash that he never thought of anything else. I moved away, instinctively embarrassed by my unexpected discovery; and as I turned, my eye fell on a small picture above the mantel-piece -- the only object breaking the plain oak panelling of the room.\" Oh, by Jove!\" I said. It was a sketch of a donkey -- an old tired donkey, standing in the rain under a wall.\" By Jove -- a Stroud!\" I cried. He was silent; but I felt him close behind me, breathing a little quickly.\" What a wonder! Made with a dozen lines -- but on everlasting foundations. You lucky chap, where did you get it?\" He answered slowly:\" Mrs. Stroud gave it to me.\"\" Ah -- I didn' t know you even knew the Strouds. He was such an inflexible hermit.\"\" I didn' t -- till after.... She sent for me to paint him when he was dead.\"\" When he was dead? You?\" I must have let a little too much amazement escape through my surprise, for he answered with a deprecating laugh:\" Yes -- she' s an awful simpleton, you know, Mrs. Stroud. Her only idea was to have him done by a fashionable painter -- ah, poor Stroud! She thought it the surest way of proclaiming his greatness -- of forcing it on a purblind public. And at the moment I was _ the _ fashionable painter.\"\" Ah, poor Stroud -- as you say. Was _ that _ his history?\"\" That was his history. She believed in him, gloried in him -- or thought she did. But she couldn' t bear not to have all the drawing-rooms with her. She couldn' t bear the fact that, on varnishing days, one could always get near enough to see his pictures. Poor woman! She' s just a fragment groping for other fragments. Stroud is the only whole I ever knew.\"\" You ever knew? But you just said --\" Gisburn had a curious smile in his eyes.\" Oh, I knew him, and he knew me -- only it happened after he was dead.\" I dropped my voice instinctively.\" When she sent for you?\"\" Yes -- quite insensible to the irony. She wanted him vindicated -- and by me!\" He laughed again, and threw back his head to look up at the sketch of the donkey.\" There were days when I couldn' t look at that thing -- couldn' t face it. But I forced myself to put it here; and now it' s cured me -- cured me. That' s the reason why I don' t dabble any more, my dear Rickham; or rather Stroud himself is the reason.\" For the first time my idle curiosity about my companion turned into a serious desire to understand him better.\" I wish you' d tell me how it happened,\" I said. He stood looking up at the sketch, and twirling between his fingers a cigarette he had forgotten to light. Suddenly he turned toward me.\" I' d rather like to tell you -- because I' ve always suspected you of loathing my work.\" I made a deprecating gesture, which he negatived with a good-humoured shrug.\" Oh, I didn' t care a straw when I believed in myself -- and now it' s an added tie between us!\" He laughed slightly, without bitterness, and pushed one of the deep arm-chairs forward.\" There: make yourself comfortable -- and here are the cigars you like.\" He placed them at my elbow and continued to wander up and down the room, stopping now and then beneath the picture.\" How it happened? I can tell you in five minutes -- and it didn' t take much longer to happen.... I can remember now how surprised and pleased I was when I got Mrs. Stroud' s note. Of course, deep down, I had always _ felt _ there was no one like him -- only I had gone with the stream, echoed the usual platitudes about him, till I half got to think he was a failure, one of the kind that are left behind. By Jove, and he _ was _ left behind -- because he had come to stay! The rest of us had to let ourselves be swept along or go under, but he was high above the current -- on everlasting foundations, as you say.\" Well, I went off to the house in my most egregious mood -- rather moved, Lord forgive me, at the pathos of poor Stroud' s career of failure being crowned by the glory of my painting him! Of course I meant to do the picture for nothing -- I told Mrs. Stroud so when she began to stammer something about her poverty. I remember getting off a prodigious phrase about the honour being _ mine _ -- oh, I was princely, my dear Rickham! I was posing to myself like one of my own sitters.\" Then I was taken up and left alone with him. I had sent all my traps in advance, and I had only to set up the easel and get to work. He had been dead only twenty-four hours, and he died suddenly, of heart disease, so that there had been no preliminary work of destruction -- his face was clear and untouched. I had met him once or twice, years before, and thought him insignificant and dingy. Now I saw that he was superb.\" I was glad at first, with a merely aesthetic satisfaction: glad to have my hand on such a' subject.' Then his strange life-likeness began to affect me queerly -- as I blocked the head in I felt as if he were watching me do it. The sensation was followed by the thought: if he _ were _ watching me, what would he say to my way of working? My strokes began to go a little wild -- I felt nervous and uncertain.\" Once, when I looked up, I seemed to see a smile behind his close grayish beard -- as if he had the secret, and were amusing himself by holding it back from me. That exasperated me still more. The secret? Why, I had a secret worth twenty of his! I dashed at the canvas furiously, and tried some of my bravura tricks. But they failed me, they crumbled. I saw that he wasn' t watching the showy bits -- I couldn' t distract his attention; he just kept his eyes on the hard passages between. Those were the ones I had always shirked, or covered up with some lying paint. And how he saw through my lies!\" I looked up again, and caught sight of that sketch of the donkey hanging on the wall near his bed. His wife told me afterward it was the last thing he had done -- just a note taken with a shaking hand, when he was down in Devonshire recovering from a previous heart attack. Just a note! But it tells his whole history. There are years of patient scornful persistence in every line. A man who had swum with the current could never have learned that mighty up-stream stroke....\" I turned back to my work, and went on groping and muddling; then I looked at the donkey again. I saw that, when Stroud laid in the first stroke, he knew just what the end would be. He had possessed his subject, absorbed it, recreated it. When had I done that with any of my things? They hadn' t been born of me -- I had just adopted them....\" Hang it, Rickham, with that face watching me I couldn' t do another stroke. The plain truth was, I didn' t know where to put it -- _ I had never known _. Only, with my sitters and my public, a showy splash of colour covered up the fact -- I just threw paint into their faces.... Well, paint was the one medium those dead eyes could see through -- see straight to the tottering foundations underneath. Don' t you know how, in talking a foreign language, even fluently, one says half the time not what one wants to but what one can? Well -- that was the way I painted; and as he lay there and watched me, the thing they called my' technique' collapsed like a house of cards. He didn' t sneer, you understand, poor Stroud -- he just lay there quietly watching, and on his lips, through the gray beard, I seemed to hear the question:' Are you sure you know where you' re coming out?'\" If I could have painted that face, with that question on it, I should have done a great thing. The next greatest thing was to see that I couldn' t -- and that grace was given me. But, oh, at that minute, Rickham, was there anything on earth I wouldn' t have given to have Stroud alive before me, and to hear him say:' It' s not too late -- I' ll show you how'?\" It _ was _ too late -- it would have been, even if he' d been alive. I packed up my traps, and went down and told Mrs. Stroud. Of course I didn' t tell her _ that _ -- it would have been Greek to her. I simply said I couldn' t paint him, that I was too moved. She rather liked the idea -- she' s so romantic! It was that that made her give me the donkey. But she was terribly upset at not getting the portrait -- she did so want him' done' by some one showy! At first I was afraid she wouldn' t let me off -- and at my wits' end I suggested Grindle. Yes, it was I who started Grindle: I told Mrs. Stroud he was the' coming' man, and she told somebody else, and so it got to be true.... And he painted Stroud without wincing; and she hung the picture among her husband' s things....\" He flung himself down in the arm-chair near mine, laid back his head, and clasping his arms beneath it, looked up at the picture above the chimney-piece.\" I like to fancy that Stroud himself would have given it to me, if he' d been able to say what he thought that day.\" And, in answer to a question I put half-mechanically --\" Begin again?\" he flashed out.\" When the one thing that brings me anywhere near him is that I knew enough to leave off?\" He stood up and laid his hand on my shoulder with a laugh.\" Only the irony of it is that I _ am _ still painting -- since Grindle' s doing it for me! The Strouds stand alone, and happen once -- but there' s no exterminating our kind of art.\"\n"
     ]
    }
   ],
   "source": [
    "enc_sample = enc_text[50:]\n",
    "print(enc_sample)\n",
    "print(tokenizer.decode(enc_sample))"
   ]
  },
  {
   "cell_type": "code",
   "execution_count": 30,
   "id": "dfbff852-a92f-48c8-a46d-143a0f109f40",
   "metadata": {},
   "outputs": [
    {
     "name": "stdout",
     "output_type": "stream",
     "text": [
      "x: in a villa on\n",
      "x: [568, 115, 1066, 727]\n",
      "y:      a villa on the\n",
      "y:      [115, 1066, 727, 988]\n"
     ]
    }
   ],
   "source": [
    "context_size = 4\n",
    "\n",
    "x = enc_sample[:context_size]\n",
    "y = enc_sample[1:context_size+1]\n",
    "\n",
    "print(f\"x: {tokenizer.decode(x)}\")\n",
    "print(f\"x: {x}\")\n",
    "print(f\"y:      {tokenizer.decode(y)}\")\n",
    "print(f\"y:      {y}\")\n",
    "\n",
    "\n"
   ]
  },
  {
   "cell_type": "markdown",
   "id": "815014ef-62f7-4476-a6ad-66e20e42b7c3",
   "metadata": {},
   "source": [
    "- One by one, the prediction would look like as follows:"
   ]
  },
  {
   "cell_type": "code",
   "execution_count": 31,
   "id": "d97b031e-ed55-409d-95f2-aeb38c6fe366",
   "metadata": {},
   "outputs": [
    {
     "name": "stdout",
     "output_type": "stream",
     "text": [
      "[568] ----> 115\n",
      "[568, 115] ----> 1066\n",
      "[568, 115, 1066] ----> 727\n",
      "[568, 115, 1066, 727] ----> 988\n"
     ]
    }
   ],
   "source": [
    "for i in range(1, context_size+1):\n",
    "    context = enc_sample[:i]\n",
    "    desired = enc_sample[i]\n",
    "\n",
    "    print(context, \"---->\", desired)"
   ]
  },
  {
   "cell_type": "code",
   "execution_count": 32,
   "id": "f57bd746-dcbf-4433-8e24-ee213a8c34a1",
   "metadata": {},
   "outputs": [
    {
     "name": "stdout",
     "output_type": "stream",
     "text": [
      "in ----> a\n",
      "in a ----> villa\n",
      "in a villa ----> on\n",
      "in a villa on ----> the\n"
     ]
    }
   ],
   "source": [
    "for i in range(1, context_size+1):\n",
    "    context = enc_sample[:i]\n",
    "    desired = enc_sample[i]\n",
    "\n",
    "    print(tokenizer.decode(context), \"---->\", tokenizer.decode([desired]))"
   ]
  },
  {
   "cell_type": "markdown",
   "id": "210d2dd9-fc20-4927-8d3d-1466cf41aae1",
   "metadata": {},
   "source": [
    "- We will take care of the next-word prediction in a later chapter after we covered the attention mechanism\n",
    "- For now, we implement a simple data loader that iterates over the input dataset and returns the inputs and targets shifted by one"
   ]
  },
  {
   "cell_type": "markdown",
   "id": "a1a1b47a-f646-49d1-bc70-fddf2c840796",
   "metadata": {},
   "source": [
    "- Install and import PyTorch (see Appendix A for installation tips)"
   ]
  },
  {
   "cell_type": "code",
   "execution_count": 33,
   "id": "e1770134-e7f3-4725-a679-e04c3be48cac",
   "metadata": {},
   "outputs": [
    {
     "name": "stdout",
     "output_type": "stream",
     "text": [
      "PyTorch version: 2.7.1\n"
     ]
    }
   ],
   "source": [
    "import torch\n",
    "print(\"PyTorch version:\", torch.__version__)"
   ]
  },
  {
   "cell_type": "markdown",
   "id": "0c9a3d50-885b-49bc-b791-9f5cc8bc7b7c",
   "metadata": {},
   "source": [
    "- We use a sliding window approach, changing the position by +1:\n",
    "\n",
    "<img src=\"https://sebastianraschka.com/images/LLMs-from-scratch-images/ch02_compressed/13.webp?123\" width=\"500px\">"
   ]
  },
  {
   "cell_type": "markdown",
   "id": "92ac652d-7b38-4843-9fbd-494cdc8ec12c",
   "metadata": {},
   "source": [
    "- Create dataset and dataloader that extract chunks from the input text dataset"
   ]
  },
  {
   "cell_type": "code",
   "execution_count": 34,
   "id": "74b41073-4c9f-46e2-a1bd-d38e4122b375",
   "metadata": {},
   "outputs": [],
   "source": [
    "from torch.utils.data import Dataset, DataLoader\n",
    "\n",
    "\n",
    "class GPTDatasetV1(Dataset):\n",
    "    def __init__(self, txt, tokenizer, max_length, stride):\n",
    "        self.input_ids = []\n",
    "        self.target_ids = []\n",
    "\n",
    "        # Tokenize the entire text\n",
    "        token_ids = tokenizer.encode(txt, allowed_special={\"<|endoftext|>\"})\n",
    "        assert len(token_ids) > max_length, \"Number of tokenized inputs must at least be equal to max_length+1\"\n",
    "\n",
    "        # Use a sliding window to chunk the book into overlapping sequences of max_length\n",
    "        for i in range(0, len(token_ids) - max_length, stride):\n",
    "            input_chunk = token_ids[i:i + max_length]\n",
    "            target_chunk = token_ids[i + 1: i + max_length + 1]\n",
    "            self.input_ids.append(torch.tensor(input_chunk))\n",
    "            self.target_ids.append(torch.tensor(target_chunk))\n",
    "\n",
    "    def __len__(self):\n",
    "        return len(self.input_ids)\n",
    "\n",
    "    def __getitem__(self, idx):\n",
    "        return self.input_ids[idx], self.target_ids[idx]"
   ]
  },
  {
   "cell_type": "code",
   "execution_count": 35,
   "id": "5eb30ebe-97b3-43c5-9ff1-a97d621b3c4e",
   "metadata": {},
   "outputs": [],
   "source": [
    "def create_dataloader_v1(txt, batch_size=4, max_length=256, \n",
    "                         stride=128, shuffle=True, drop_last=True,\n",
    "                         num_workers=0):\n",
    "\n",
    "    # Initialize the tokenizer\n",
    "    tokenizer = tiktoken.get_encoding(\"gpt2\")\n",
    "\n",
    "    # Create dataset\n",
    "    dataset = GPTDatasetV1(txt, tokenizer, max_length, stride)\n",
    "\n",
    "    # Create dataloader\n",
    "    dataloader = DataLoader(\n",
    "        dataset,\n",
    "        batch_size=batch_size,\n",
    "        shuffle=shuffle,\n",
    "        drop_last=drop_last,\n",
    "        num_workers=num_workers\n",
    "    )\n",
    "\n",
    "    return dataloader"
   ]
  },
  {
   "cell_type": "code",
   "execution_count": null,
   "id": "4c2fc355",
   "metadata": {},
   "outputs": [],
   "source": []
  },
  {
   "cell_type": "markdown",
   "id": "42dd68ef-59f7-45ff-ba44-e311c899ddcd",
   "metadata": {},
   "source": [
    "- Let's test the dataloader with a batch size of 1 for an LLM with a context size of 4:"
   ]
  },
  {
   "cell_type": "code",
   "execution_count": null,
   "id": "df31d96c-6bfd-4564-a956-6192242d7579",
   "metadata": {},
   "outputs": [],
   "source": [
    "with open(\"the-verdict.txt\", \"r\", encoding=\"utf-8\") as f:\n",
    "    raw_text = f.read()"
   ]
  },
  {
   "cell_type": "code",
   "execution_count": 36,
   "id": "6b238be2",
   "metadata": {},
   "outputs": [
    {
     "name": "stdout",
     "output_type": "stream",
     "text": [
      "[818, 262, 2612, 286, 262, 1748, 6204, 262, 1468, 5888]\n",
      "Number of tokens in the text: 10\n",
      "In the heart of the city stood the old library\n"
     ]
    }
   ],
   "source": [
    "raw_text = \"In the heart of the city stood the old library\"\n",
    "# use tiktoken to encode the text\n",
    "tokenizer = tiktoken.get_encoding(\"gpt2\")\n",
    "\n",
    "print(tokenizer.encode(raw_text))\n",
    "print(\"Number of tokens in the text:\", len(tokenizer.encode(raw_text)))\n",
    "print(tokenizer.decode(tokenizer.encode(raw_text)))\n"
   ]
  },
  {
   "cell_type": "code",
   "execution_count": 51,
   "id": "9226d00c-ad9a-4949-a6e4-9afccfc7214f",
   "metadata": {},
   "outputs": [
    {
     "name": "stdout",
     "output_type": "stream",
     "text": [
      "[tensor([[ 818,  262, 2612],\n",
      "        [ 262, 2612,  286]]), tensor([[ 262, 2612,  286],\n",
      "        [2612,  286,  262]])]\n",
      "<class 'list'>\n",
      "Input IDs: [818, 262, 2612]\n",
      "Target IDs: [262, 2612, 286]\n",
      "Input Text: In the heart\n",
      "Target Text:  the heart of\n",
      "--------------------\n",
      "Input IDs: [262, 2612, 286]\n",
      "Target IDs: [2612, 286, 262]\n",
      "Input Text:  the heart of\n",
      "Target Text:  heart of the\n",
      "--------------------\n"
     ]
    }
   ],
   "source": [
    "dataloader = create_dataloader_v1(\n",
    "    raw_text, batch_size=2, max_length=3, stride=1, shuffle=False\n",
    ")\n",
    "\n",
    "data_iter = iter(dataloader)\n",
    "first_batch = next(data_iter)\n",
    "print(first_batch)\n",
    "print(type(first_batch))\n",
    "for i in range(len(first_batch[0])):\n",
    "    input_ids = first_batch[0][i]\n",
    "    target_ids = first_batch[1][i]\n",
    "    print(f\"Input IDs: {input_ids.tolist()}\")\n",
    "    print(f\"Target IDs: {target_ids.tolist()}\")\n",
    "    print(f\"Input Text: {tokenizer.decode(input_ids.tolist())}\")\n",
    "    print(f\"Target Text: {tokenizer.decode(target_ids.tolist())}\")\n",
    "    print(\"-\" * 20)"
   ]
  },
  {
   "cell_type": "code",
   "execution_count": 52,
   "id": "52375c33",
   "metadata": {},
   "outputs": [
    {
     "data": {
      "text/plain": [
       "[tensor([[ 818,  262, 2612],\n",
       "         [ 262, 2612,  286]]),\n",
       " tensor([[ 262, 2612,  286],\n",
       "         [2612,  286,  262]])]"
      ]
     },
     "execution_count": 52,
     "metadata": {},
     "output_type": "execute_result"
    }
   ],
   "source": [
    "first_batch"
   ]
  },
  {
   "cell_type": "code",
   "execution_count": null,
   "id": "10f57e8c",
   "metadata": {},
   "outputs": [],
   "source": [
    "first_batch"
   ]
  },
  {
   "cell_type": "code",
   "execution_count": 39,
   "id": "10deb4bc-4de1-4d20-921e-4b1c7a0e1a6d",
   "metadata": {},
   "outputs": [
    {
     "ename": "StopIteration",
     "evalue": "",
     "output_type": "error",
     "traceback": [
      "\u001b[0;31m---------------------------------------------------------------------------\u001b[0m",
      "\u001b[0;31mStopIteration\u001b[0m                             Traceback (most recent call last)",
      "Cell \u001b[0;32mIn[39], line 1\u001b[0m\n\u001b[0;32m----> 1\u001b[0m second_batch \u001b[38;5;241m=\u001b[39m \u001b[38;5;28;43mnext\u001b[39;49m\u001b[43m(\u001b[49m\u001b[43mdata_iter\u001b[49m\u001b[43m)\u001b[49m\n\u001b[1;32m      2\u001b[0m \u001b[38;5;28;01mfor\u001b[39;00m i \u001b[38;5;129;01min\u001b[39;00m \u001b[38;5;28mrange\u001b[39m(\u001b[38;5;28mlen\u001b[39m(second_batch[\u001b[38;5;241m0\u001b[39m])):\n\u001b[1;32m      3\u001b[0m     input_ids \u001b[38;5;241m=\u001b[39m second_batch[\u001b[38;5;241m0\u001b[39m][i]\n",
      "File \u001b[0;32m~/projects/chatbot-projects/custom-llm-toolkit/.venv/lib/python3.10/site-packages/torch/utils/data/dataloader.py:733\u001b[0m, in \u001b[0;36m_BaseDataLoaderIter.__next__\u001b[0;34m(self)\u001b[0m\n\u001b[1;32m    730\u001b[0m \u001b[38;5;28;01mif\u001b[39;00m \u001b[38;5;28mself\u001b[39m\u001b[38;5;241m.\u001b[39m_sampler_iter \u001b[38;5;129;01mis\u001b[39;00m \u001b[38;5;28;01mNone\u001b[39;00m:\n\u001b[1;32m    731\u001b[0m     \u001b[38;5;66;03m# TODO(https://github.com/pytorch/pytorch/issues/76750)\u001b[39;00m\n\u001b[1;32m    732\u001b[0m     \u001b[38;5;28mself\u001b[39m\u001b[38;5;241m.\u001b[39m_reset()  \u001b[38;5;66;03m# type: ignore[call-arg]\u001b[39;00m\n\u001b[0;32m--> 733\u001b[0m data \u001b[38;5;241m=\u001b[39m \u001b[38;5;28;43mself\u001b[39;49m\u001b[38;5;241;43m.\u001b[39;49m\u001b[43m_next_data\u001b[49m\u001b[43m(\u001b[49m\u001b[43m)\u001b[49m\n\u001b[1;32m    734\u001b[0m \u001b[38;5;28mself\u001b[39m\u001b[38;5;241m.\u001b[39m_num_yielded \u001b[38;5;241m+\u001b[39m\u001b[38;5;241m=\u001b[39m \u001b[38;5;241m1\u001b[39m\n\u001b[1;32m    735\u001b[0m \u001b[38;5;28;01mif\u001b[39;00m (\n\u001b[1;32m    736\u001b[0m     \u001b[38;5;28mself\u001b[39m\u001b[38;5;241m.\u001b[39m_dataset_kind \u001b[38;5;241m==\u001b[39m _DatasetKind\u001b[38;5;241m.\u001b[39mIterable\n\u001b[1;32m    737\u001b[0m     \u001b[38;5;129;01mand\u001b[39;00m \u001b[38;5;28mself\u001b[39m\u001b[38;5;241m.\u001b[39m_IterableDataset_len_called \u001b[38;5;129;01mis\u001b[39;00m \u001b[38;5;129;01mnot\u001b[39;00m \u001b[38;5;28;01mNone\u001b[39;00m\n\u001b[1;32m    738\u001b[0m     \u001b[38;5;129;01mand\u001b[39;00m \u001b[38;5;28mself\u001b[39m\u001b[38;5;241m.\u001b[39m_num_yielded \u001b[38;5;241m>\u001b[39m \u001b[38;5;28mself\u001b[39m\u001b[38;5;241m.\u001b[39m_IterableDataset_len_called\n\u001b[1;32m    739\u001b[0m ):\n",
      "File \u001b[0;32m~/projects/chatbot-projects/custom-llm-toolkit/.venv/lib/python3.10/site-packages/torch/utils/data/dataloader.py:788\u001b[0m, in \u001b[0;36m_SingleProcessDataLoaderIter._next_data\u001b[0;34m(self)\u001b[0m\n\u001b[1;32m    787\u001b[0m \u001b[38;5;28;01mdef\u001b[39;00m\u001b[38;5;250m \u001b[39m\u001b[38;5;21m_next_data\u001b[39m(\u001b[38;5;28mself\u001b[39m):\n\u001b[0;32m--> 788\u001b[0m     index \u001b[38;5;241m=\u001b[39m \u001b[38;5;28;43mself\u001b[39;49m\u001b[38;5;241;43m.\u001b[39;49m\u001b[43m_next_index\u001b[49m\u001b[43m(\u001b[49m\u001b[43m)\u001b[49m  \u001b[38;5;66;03m# may raise StopIteration\u001b[39;00m\n\u001b[1;32m    789\u001b[0m     data \u001b[38;5;241m=\u001b[39m \u001b[38;5;28mself\u001b[39m\u001b[38;5;241m.\u001b[39m_dataset_fetcher\u001b[38;5;241m.\u001b[39mfetch(index)  \u001b[38;5;66;03m# may raise StopIteration\u001b[39;00m\n\u001b[1;32m    790\u001b[0m     \u001b[38;5;28;01mif\u001b[39;00m \u001b[38;5;28mself\u001b[39m\u001b[38;5;241m.\u001b[39m_pin_memory:\n",
      "File \u001b[0;32m~/projects/chatbot-projects/custom-llm-toolkit/.venv/lib/python3.10/site-packages/torch/utils/data/dataloader.py:723\u001b[0m, in \u001b[0;36m_BaseDataLoaderIter._next_index\u001b[0;34m(self)\u001b[0m\n\u001b[1;32m    722\u001b[0m \u001b[38;5;28;01mdef\u001b[39;00m\u001b[38;5;250m \u001b[39m\u001b[38;5;21m_next_index\u001b[39m(\u001b[38;5;28mself\u001b[39m):\n\u001b[0;32m--> 723\u001b[0m     \u001b[38;5;28;01mreturn\u001b[39;00m \u001b[38;5;28;43mnext\u001b[39;49m\u001b[43m(\u001b[49m\u001b[38;5;28;43mself\u001b[39;49m\u001b[38;5;241;43m.\u001b[39;49m\u001b[43m_sampler_iter\u001b[49m\u001b[43m)\u001b[49m\n",
      "\u001b[0;31mStopIteration\u001b[0m: "
     ]
    }
   ],
   "source": [
    "second_batch = next(data_iter)\n",
    "for i in range(len(second_batch[0])):\n",
    "    input_ids = second_batch[0][i]\n",
    "    target_ids = second_batch[1][i]\n",
    "    print(f\"Input IDs: {input_ids.tolist()}\")\n",
    "    print(f\"Target IDs: {target_ids.tolist()}\")\n",
    "    print(f\"Input Text: {tokenizer.decode(input_ids.tolist())}\")\n",
    "    print(f\"Target Text: {tokenizer.decode(target_ids.tolist())}\")\n",
    "    print(\"-\" * 20)"
   ]
  },
  {
   "cell_type": "markdown",
   "id": "b006212f-de45-468d-bdee-5806216d1679",
   "metadata": {},
   "source": [
    "- An example using stride equal to the context length (here: 4) as shown below:"
   ]
  },
  {
   "cell_type": "markdown",
   "id": "9cb467e0-bdcd-4dda-b9b0-a738c5d33ac3",
   "metadata": {},
   "source": [
    "<img src=\"https://sebastianraschka.com/images/LLMs-from-scratch-images/ch02_compressed/14.webp\" width=\"500px\">"
   ]
  },
  {
   "cell_type": "markdown",
   "id": "b1ae6d45-f26e-4b83-9c7b-cff55ffa7d16",
   "metadata": {},
   "source": [
    "- We can also create batched outputs\n",
    "- Note that we increase the stride here so that we don't have overlaps between the batches, since more overlap could lead to increased overfitting"
   ]
  },
  {
   "cell_type": "code",
   "execution_count": 40,
   "id": "1916e7a6-f03d-4f09-91a6-d0bdbac5a58c",
   "metadata": {},
   "outputs": [
    {
     "ename": "StopIteration",
     "evalue": "",
     "output_type": "error",
     "traceback": [
      "\u001b[0;31m---------------------------------------------------------------------------\u001b[0m",
      "\u001b[0;31mStopIteration\u001b[0m                             Traceback (most recent call last)",
      "Cell \u001b[0;32mIn[40], line 4\u001b[0m\n\u001b[1;32m      1\u001b[0m dataloader \u001b[38;5;241m=\u001b[39m create_dataloader_v1(raw_text, batch_size\u001b[38;5;241m=\u001b[39m\u001b[38;5;241m8\u001b[39m, max_length\u001b[38;5;241m=\u001b[39m\u001b[38;5;241m4\u001b[39m, stride\u001b[38;5;241m=\u001b[39m\u001b[38;5;241m4\u001b[39m, shuffle\u001b[38;5;241m=\u001b[39m\u001b[38;5;28;01mFalse\u001b[39;00m)\n\u001b[1;32m      3\u001b[0m data_iter \u001b[38;5;241m=\u001b[39m \u001b[38;5;28miter\u001b[39m(dataloader)\n\u001b[0;32m----> 4\u001b[0m inputs, targets \u001b[38;5;241m=\u001b[39m \u001b[38;5;28;43mnext\u001b[39;49m\u001b[43m(\u001b[49m\u001b[43mdata_iter\u001b[49m\u001b[43m)\u001b[49m\n\u001b[1;32m      5\u001b[0m \u001b[38;5;28mprint\u001b[39m(\u001b[38;5;124m\"\u001b[39m\u001b[38;5;124mInputs:\u001b[39m\u001b[38;5;130;01m\\n\u001b[39;00m\u001b[38;5;124m\"\u001b[39m, inputs)\n\u001b[1;32m      6\u001b[0m \u001b[38;5;28mprint\u001b[39m(\u001b[38;5;124m\"\u001b[39m\u001b[38;5;130;01m\\n\u001b[39;00m\u001b[38;5;124mTargets:\u001b[39m\u001b[38;5;130;01m\\n\u001b[39;00m\u001b[38;5;124m\"\u001b[39m, targets)\n",
      "File \u001b[0;32m~/projects/chatbot-projects/custom-llm-toolkit/.venv/lib/python3.10/site-packages/torch/utils/data/dataloader.py:733\u001b[0m, in \u001b[0;36m_BaseDataLoaderIter.__next__\u001b[0;34m(self)\u001b[0m\n\u001b[1;32m    730\u001b[0m \u001b[38;5;28;01mif\u001b[39;00m \u001b[38;5;28mself\u001b[39m\u001b[38;5;241m.\u001b[39m_sampler_iter \u001b[38;5;129;01mis\u001b[39;00m \u001b[38;5;28;01mNone\u001b[39;00m:\n\u001b[1;32m    731\u001b[0m     \u001b[38;5;66;03m# TODO(https://github.com/pytorch/pytorch/issues/76750)\u001b[39;00m\n\u001b[1;32m    732\u001b[0m     \u001b[38;5;28mself\u001b[39m\u001b[38;5;241m.\u001b[39m_reset()  \u001b[38;5;66;03m# type: ignore[call-arg]\u001b[39;00m\n\u001b[0;32m--> 733\u001b[0m data \u001b[38;5;241m=\u001b[39m \u001b[38;5;28;43mself\u001b[39;49m\u001b[38;5;241;43m.\u001b[39;49m\u001b[43m_next_data\u001b[49m\u001b[43m(\u001b[49m\u001b[43m)\u001b[49m\n\u001b[1;32m    734\u001b[0m \u001b[38;5;28mself\u001b[39m\u001b[38;5;241m.\u001b[39m_num_yielded \u001b[38;5;241m+\u001b[39m\u001b[38;5;241m=\u001b[39m \u001b[38;5;241m1\u001b[39m\n\u001b[1;32m    735\u001b[0m \u001b[38;5;28;01mif\u001b[39;00m (\n\u001b[1;32m    736\u001b[0m     \u001b[38;5;28mself\u001b[39m\u001b[38;5;241m.\u001b[39m_dataset_kind \u001b[38;5;241m==\u001b[39m _DatasetKind\u001b[38;5;241m.\u001b[39mIterable\n\u001b[1;32m    737\u001b[0m     \u001b[38;5;129;01mand\u001b[39;00m \u001b[38;5;28mself\u001b[39m\u001b[38;5;241m.\u001b[39m_IterableDataset_len_called \u001b[38;5;129;01mis\u001b[39;00m \u001b[38;5;129;01mnot\u001b[39;00m \u001b[38;5;28;01mNone\u001b[39;00m\n\u001b[1;32m    738\u001b[0m     \u001b[38;5;129;01mand\u001b[39;00m \u001b[38;5;28mself\u001b[39m\u001b[38;5;241m.\u001b[39m_num_yielded \u001b[38;5;241m>\u001b[39m \u001b[38;5;28mself\u001b[39m\u001b[38;5;241m.\u001b[39m_IterableDataset_len_called\n\u001b[1;32m    739\u001b[0m ):\n",
      "File \u001b[0;32m~/projects/chatbot-projects/custom-llm-toolkit/.venv/lib/python3.10/site-packages/torch/utils/data/dataloader.py:788\u001b[0m, in \u001b[0;36m_SingleProcessDataLoaderIter._next_data\u001b[0;34m(self)\u001b[0m\n\u001b[1;32m    787\u001b[0m \u001b[38;5;28;01mdef\u001b[39;00m\u001b[38;5;250m \u001b[39m\u001b[38;5;21m_next_data\u001b[39m(\u001b[38;5;28mself\u001b[39m):\n\u001b[0;32m--> 788\u001b[0m     index \u001b[38;5;241m=\u001b[39m \u001b[38;5;28;43mself\u001b[39;49m\u001b[38;5;241;43m.\u001b[39;49m\u001b[43m_next_index\u001b[49m\u001b[43m(\u001b[49m\u001b[43m)\u001b[49m  \u001b[38;5;66;03m# may raise StopIteration\u001b[39;00m\n\u001b[1;32m    789\u001b[0m     data \u001b[38;5;241m=\u001b[39m \u001b[38;5;28mself\u001b[39m\u001b[38;5;241m.\u001b[39m_dataset_fetcher\u001b[38;5;241m.\u001b[39mfetch(index)  \u001b[38;5;66;03m# may raise StopIteration\u001b[39;00m\n\u001b[1;32m    790\u001b[0m     \u001b[38;5;28;01mif\u001b[39;00m \u001b[38;5;28mself\u001b[39m\u001b[38;5;241m.\u001b[39m_pin_memory:\n",
      "File \u001b[0;32m~/projects/chatbot-projects/custom-llm-toolkit/.venv/lib/python3.10/site-packages/torch/utils/data/dataloader.py:723\u001b[0m, in \u001b[0;36m_BaseDataLoaderIter._next_index\u001b[0;34m(self)\u001b[0m\n\u001b[1;32m    722\u001b[0m \u001b[38;5;28;01mdef\u001b[39;00m\u001b[38;5;250m \u001b[39m\u001b[38;5;21m_next_index\u001b[39m(\u001b[38;5;28mself\u001b[39m):\n\u001b[0;32m--> 723\u001b[0m     \u001b[38;5;28;01mreturn\u001b[39;00m \u001b[38;5;28;43mnext\u001b[39;49m\u001b[43m(\u001b[49m\u001b[38;5;28;43mself\u001b[39;49m\u001b[38;5;241;43m.\u001b[39;49m\u001b[43m_sampler_iter\u001b[49m\u001b[43m)\u001b[49m\n",
      "\u001b[0;31mStopIteration\u001b[0m: "
     ]
    }
   ],
   "source": [
    "dataloader = create_dataloader_v1(raw_text, batch_size=8, max_length=4, stride=4, shuffle=False)\n",
    "\n",
    "data_iter = iter(dataloader)\n",
    "inputs, targets = next(data_iter)\n",
    "print(\"Inputs:\\n\", inputs)\n",
    "print(\"\\nTargets:\\n\", targets)"
   ]
  },
  {
   "cell_type": "markdown",
   "id": "2cd2fcda-2fda-4aa8-8bc8-de1e496f9db1",
   "metadata": {},
   "source": [
    "## 2.7 Creating token embeddings"
   ]
  },
  {
   "cell_type": "markdown",
   "id": "1a301068-6ab2-44ff-a915-1ba11688274f",
   "metadata": {},
   "source": [
    "- The data is already almost ready for an LLM\n",
    "- But lastly let us embed the tokens in a continuous vector representation using an embedding layer\n",
    "- Usually, these embedding layers are part of the LLM itself and are updated (trained) during model training"
   ]
  },
  {
   "cell_type": "markdown",
   "id": "e85089aa-8671-4e5f-a2b3-ef252004ee4c",
   "metadata": {},
   "source": [
    "<img src=\"https://sebastianraschka.com/images/LLMs-from-scratch-images/ch02_compressed/15.webp\" width=\"400px\">"
   ]
  },
  {
   "cell_type": "markdown",
   "id": "44e014ca-1fc5-4b90-b6fa-c2097bb92c0b",
   "metadata": {},
   "source": [
    "- Suppose we have the following four input examples with input ids 2, 3, 5, and 1 (after tokenization):"
   ]
  },
  {
   "cell_type": "code",
   "execution_count": null,
   "id": "15a6304c-9474-4470-b85d-3991a49fa653",
   "metadata": {},
   "outputs": [
    {
     "name": "stdout",
     "output_type": "stream",
     "text": [
      "<class 'torch.Tensor'>\n",
      "torch.Size([4])\n",
      "torch.Size([4])\n",
      "tensor([2, 3, 5, 1])\n"
     ]
    }
   ],
   "source": [
    "input_ids = torch.tensor([2, 3, 5, 1])\n",
    "print(type(input_ids))\n",
    "print(input_ids.size())\n",
    "print(input_ids.shape)\n",
    "print(input_ids)"
   ]
  },
  {
   "cell_type": "markdown",
   "id": "14da6344-2c71-4837-858d-dd120005ba05",
   "metadata": {},
   "source": [
    "- For the sake of simplicity, suppose we have a small vocabulary of only 6 words and we want to create embeddings of size 3:"
   ]
  },
  {
   "cell_type": "code",
   "execution_count": null,
   "id": "93cb2cee-9aa6-4bb8-8977-c65661d16eda",
   "metadata": {},
   "outputs": [],
   "source": [
    "vocab_size = 6\n",
    "output_dim = 3\n",
    "\n",
    "torch.manual_seed(123)\n",
    "embedding_layer = torch.nn.Embedding(vocab_size, output_dim)"
   ]
  },
  {
   "cell_type": "markdown",
   "id": "4ff241f6-78eb-4e4a-a55f-5b2b6196d5b0",
   "metadata": {},
   "source": [
    "- This would result in a 6x3 weight matrix:"
   ]
  },
  {
   "cell_type": "code",
   "execution_count": null,
   "id": "a686eb61-e737-4351-8f1c-222913d47468",
   "metadata": {},
   "outputs": [
    {
     "name": "stdout",
     "output_type": "stream",
     "text": [
      "Parameter containing:\n",
      "tensor([[ 0.3374, -0.1778, -0.1690],\n",
      "        [ 0.9178,  1.5810,  1.3010],\n",
      "        [ 1.2753, -0.2010, -0.1606],\n",
      "        [-0.4015,  0.9666, -1.1481],\n",
      "        [-1.1589,  0.3255, -0.6315],\n",
      "        [-2.8400, -0.7849, -1.4096]], requires_grad=True)\n",
      "<class 'torch.nn.parameter.Parameter'>\n",
      "torch.Size([6, 3])\n"
     ]
    }
   ],
   "source": [
    "print(embedding_layer.weight)\n",
    "print(type(embedding_layer.weight))\n",
    "print(embedding_layer.weight.size())"
   ]
  },
  {
   "cell_type": "markdown",
   "id": "26fcf4f5-0801-4eb4-bb90-acce87935ac7",
   "metadata": {},
   "source": [
    "- For those who are familiar with one-hot encoding, the embedding layer approach above is essentially just a more efficient way of implementing one-hot encoding followed by matrix multiplication in a fully-connected layer, which is described in the supplementary code in [./embedding_vs_matmul](../03_bonus_embedding-vs-matmul)\n",
    "- Because the embedding layer is just a more efficient implementation that is equivalent to the one-hot encoding and matrix-multiplication approach it can be seen as a neural network layer that can be optimized via backpropagation"
   ]
  },
  {
   "cell_type": "markdown",
   "id": "4b0d58c3-83c0-4205-aca2-9c48b19fd4a7",
   "metadata": {},
   "source": [
    "- To convert a token with id 3 into a 3-dimensional vector, we do the following:"
   ]
  },
  {
   "cell_type": "code",
   "execution_count": null,
   "id": "e43600ba-f287-4746-8ddf-d0f71a9023ca",
   "metadata": {},
   "outputs": [
    {
     "name": "stdout",
     "output_type": "stream",
     "text": [
      "tensor([[-0.4015,  0.9666, -1.1481]], grad_fn=<EmbeddingBackward0>)\n"
     ]
    }
   ],
   "source": [
    "print(embedding_layer(torch.tensor([3])))"
   ]
  },
  {
   "cell_type": "markdown",
   "id": "a7bbf625-4f36-491d-87b4-3969efb784b0",
   "metadata": {},
   "source": [
    "- Note that the above is the 4th row in the `embedding_layer` weight matrix\n",
    "- To embed all four `input_ids` values above, we do"
   ]
  },
  {
   "cell_type": "code",
   "execution_count": null,
   "id": "50280ead-0363-44c8-8c35-bb885d92c8b7",
   "metadata": {},
   "outputs": [
    {
     "name": "stdout",
     "output_type": "stream",
     "text": [
      "tensor([[ 1.2753, -0.2010, -0.1606],\n",
      "        [-0.4015,  0.9666, -1.1481],\n",
      "        [-2.8400, -0.7849, -1.4096],\n",
      "        [ 0.9178,  1.5810,  1.3010]], grad_fn=<EmbeddingBackward0>)\n"
     ]
    }
   ],
   "source": [
    "print(embedding_layer(input_ids))"
   ]
  },
  {
   "cell_type": "markdown",
   "id": "be97ced4-bd13-42b7-866a-4d699a17e155",
   "metadata": {},
   "source": [
    "- An embedding layer is essentially a look-up operation:"
   ]
  },
  {
   "cell_type": "markdown",
   "id": "f33c2741-bf1b-4c60-b7fd-61409d556646",
   "metadata": {},
   "source": [
    "<img src=\"https://sebastianraschka.com/images/LLMs-from-scratch-images/ch02_compressed/16.webp?123\" width=\"500px\">"
   ]
  },
  {
   "cell_type": "markdown",
   "id": "08218d9f-aa1a-4afb-a105-72ff96a54e73",
   "metadata": {},
   "source": [
    "- **You may be interested in the bonus content comparing embedding layers with regular linear layers: [../03_bonus_embedding-vs-matmul](../03_bonus_embedding-vs-matmul)**"
   ]
  },
  {
   "cell_type": "markdown",
   "id": "c393d270-b950-4bc8-99ea-97d74f2ea0f6",
   "metadata": {},
   "source": [
    "## 2.8 Encoding word positions"
   ]
  },
  {
   "cell_type": "markdown",
   "id": "24940068-1099-4698-bdc0-e798515e2902",
   "metadata": {},
   "source": [
    "- Embedding layer convert IDs into identical vector representations regardless of where they are located in the input sequence:"
   ]
  },
  {
   "cell_type": "markdown",
   "id": "9e0b14a2-f3f3-490e-b513-f262dbcf94fa",
   "metadata": {},
   "source": [
    "<img src=\"https://sebastianraschka.com/images/LLMs-from-scratch-images/ch02_compressed/17.webp\" width=\"400px\">"
   ]
  },
  {
   "cell_type": "markdown",
   "id": "92a7d7fe-38a5-46e6-8db6-b688887b0430",
   "metadata": {},
   "source": [
    "- Positional embeddings are combined with the token embedding vector to form the input embeddings for a large language model:"
   ]
  },
  {
   "cell_type": "markdown",
   "id": "48de37db-d54d-45c4-ab3e-88c0783ad2e4",
   "metadata": {},
   "source": [
    "<img src=\"https://sebastianraschka.com/images/LLMs-from-scratch-images/ch02_compressed/18.webp\" width=\"500px\">"
   ]
  },
  {
   "cell_type": "markdown",
   "id": "7f187f87-c1f8-4c2e-8050-350bbb972f55",
   "metadata": {},
   "source": [
    "- The BytePair encoder has a vocabulary size of 50,257:\n",
    "- Suppose we want to encode the input tokens into a 256-dimensional vector representation:"
   ]
  },
  {
   "cell_type": "code",
   "execution_count": null,
   "id": "0b9e344d-03a6-4f2c-b723-67b6a20c5041",
   "metadata": {},
   "outputs": [
    {
     "name": "stdout",
     "output_type": "stream",
     "text": [
      "torch.Size([50257, 256])\n"
     ]
    }
   ],
   "source": [
    "vocab_size = 50257\n",
    "output_dim = 256\n",
    "\n",
    "token_embedding_layer = torch.nn.Embedding(vocab_size, output_dim)\n",
    "print(token_embedding_layer.weight.size())"
   ]
  },
  {
   "cell_type": "markdown",
   "id": "a2654722-24e4-4b0d-a43c-436a461eb70b",
   "metadata": {},
   "source": [
    "- If we sample data from the dataloader, we embed the tokens in each batch into a 256-dimensional vector\n",
    "- If we have a batch size of 8 with 4 tokens each, this results in a 8 x 4 x 256 tensor:"
   ]
  },
  {
   "cell_type": "code",
   "execution_count": null,
   "id": "ad56a263-3d2e-4d91-98bf-d0b68d3c7fc3",
   "metadata": {},
   "outputs": [],
   "source": [
    "max_length = 4\n",
    "dataloader = create_dataloader_v1(\n",
    "    raw_text, batch_size=8, max_length=max_length,\n",
    "    stride=max_length, shuffle=False\n",
    ")\n",
    "data_iter = iter(dataloader)\n",
    "inputs, targets = next(data_iter)"
   ]
  },
  {
   "cell_type": "code",
   "execution_count": null,
   "id": "84416b60-3707-4370-bcbc-da0b62f2b64d",
   "metadata": {},
   "outputs": [
    {
     "name": "stdout",
     "output_type": "stream",
     "text": [
      "Token IDs:\n",
      " tensor([[   40,   367,  2885,  1464],\n",
      "        [ 1807,  3619,   402,   271],\n",
      "        [10899,  2138,   257,  7026],\n",
      "        [15632,   438,  2016,   257],\n",
      "        [  922,  5891,  1576,   438],\n",
      "        [  568,   340,   373,   645],\n",
      "        [ 1049,  5975,   284,   502],\n",
      "        [  284,  3285,   326,    11]])\n",
      "\n",
      "Inputs shape:\n",
      " torch.Size([8, 4])\n"
     ]
    }
   ],
   "source": [
    "print(\"Token IDs:\\n\", inputs)\n",
    "print(\"\\nInputs shape:\\n\", inputs.shape)"
   ]
  },
  {
   "cell_type": "code",
   "execution_count": null,
   "id": "7766ec38-30d0-4128-8c31-f49f063c43d1",
   "metadata": {},
   "outputs": [
    {
     "name": "stdout",
     "output_type": "stream",
     "text": [
      "torch.Size([8, 4, 256])\n"
     ]
    }
   ],
   "source": [
    "token_embeddings = token_embedding_layer(inputs)\n",
    "print(token_embeddings.shape)\n",
    "\n",
    "# uncomment & execute the following line to see how the embeddings look like\n",
    "# print(token_embeddings)"
   ]
  },
  {
   "cell_type": "markdown",
   "id": "fe2ae164-6f19-4e32-b9e5-76950fcf1c9f",
   "metadata": {},
   "source": [
    "- GPT-2 uses absolute position embeddings, so we just create another embedding layer:"
   ]
  },
  {
   "cell_type": "code",
   "execution_count": null,
   "id": "cc048e20-7ac8-417e-81f5-8fe6f9a4fe07",
   "metadata": {},
   "outputs": [],
   "source": [
    "context_length = max_length\n",
    "pos_embedding_layer = torch.nn.Embedding(context_length, output_dim)\n",
    "\n",
    "# uncomment & execute the following line to see how the embedding layer weights look like\n",
    "# print(pos_embedding_layer.weight)"
   ]
  },
  {
   "cell_type": "code",
   "execution_count": null,
   "id": "c369a1e7-d566-4b53-b398-d6adafb44105",
   "metadata": {},
   "outputs": [
    {
     "name": "stdout",
     "output_type": "stream",
     "text": [
      "torch.Size([4, 256])\n"
     ]
    }
   ],
   "source": [
    "pos_embeddings = pos_embedding_layer(torch.arange(max_length))\n",
    "print(pos_embeddings.shape)\n",
    "\n",
    "# uncomment & execute the following line to see how the embeddings look like\n",
    "# print(pos_embeddings)"
   ]
  },
  {
   "cell_type": "markdown",
   "id": "870e9d9f-2935-461a-9518-6d1386b976d6",
   "metadata": {},
   "source": [
    "- To create the input embeddings used in an LLM, we simply add the token and the positional embeddings:"
   ]
  },
  {
   "cell_type": "code",
   "execution_count": null,
   "id": "b22fab89-526e-43c8-9035-5b7018e34288",
   "metadata": {},
   "outputs": [
    {
     "name": "stdout",
     "output_type": "stream",
     "text": [
      "torch.Size([8, 4, 256])\n"
     ]
    }
   ],
   "source": [
    "input_embeddings = token_embeddings + pos_embeddings\n",
    "print(input_embeddings.shape)\n",
    "\n",
    "# uncomment & execute the following line to see how the embeddings look like\n",
    "# print(input_embeddings)"
   ]
  },
  {
   "cell_type": "markdown",
   "id": "1fbda581-6f9b-476f-8ea7-d244e6a4eaec",
   "metadata": {},
   "source": [
    "- In the initial phase of the input processing workflow, the input text is segmented into separate tokens\n",
    "- Following this segmentation, these tokens are transformed into token IDs based on a predefined vocabulary:"
   ]
  },
  {
   "cell_type": "markdown",
   "id": "d1bb0f7e-460d-44db-b366-096adcd84fff",
   "metadata": {},
   "source": [
    "<img src=\"https://sebastianraschka.com/images/LLMs-from-scratch-images/ch02_compressed/19.webp\" width=\"400px\">"
   ]
  },
  {
   "cell_type": "markdown",
   "id": "63230f2e-258f-4497-9e2e-8deee4530364",
   "metadata": {},
   "source": [
    "# Summary and takeaways"
   ]
  },
  {
   "cell_type": "markdown",
   "id": "8b3293a6-45a5-47cd-aa00-b23e3ca0a73f",
   "metadata": {},
   "source": [
    "See the [./dataloader.ipynb](./dataloader.ipynb) code notebook, which is a concise version of the data loader that we implemented in this chapter and will need for training the GPT model in upcoming chapters.\n",
    "\n",
    "See [./exercise-solutions.ipynb](./exercise-solutions.ipynb) for the exercise solutions.\n",
    "\n",
    "See the [Byte Pair Encoding (BPE) Tokenizer From Scratch](../02_bonus_bytepair-encoder/compare-bpe-tiktoken.ipynb) notebook if you are interested in learning how the GPT-2 tokenizer can be implemented and trained from scratch."
   ]
  }
 ],
 "metadata": {
  "kernelspec": {
   "display_name": "custom-llm-toolkit-py3.10",
   "language": "python",
   "name": "python3"
  },
  "language_info": {
   "codemirror_mode": {
    "name": "ipython",
    "version": 3
   },
   "file_extension": ".py",
   "mimetype": "text/x-python",
   "name": "python",
   "nbconvert_exporter": "python",
   "pygments_lexer": "ipython3",
   "version": "3.10.5"
  }
 },
 "nbformat": 4,
 "nbformat_minor": 5
}
